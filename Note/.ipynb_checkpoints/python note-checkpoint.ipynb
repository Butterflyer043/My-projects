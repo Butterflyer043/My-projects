{
 "cells": [
  {
   "cell_type": "markdown",
   "metadata": {},
   "source": [
    "## Pandas  \n",
    "##### create a dataframe"
   ]
  },
  {
   "cell_type": "code",
   "execution_count": 1,
   "metadata": {},
   "outputs": [],
   "source": [
    "import pandas as pd\n",
    "import numpy as np"
   ]
  },
  {
   "cell_type": "code",
   "execution_count": 224,
   "metadata": {},
   "outputs": [
    {
     "name": "stdout",
     "output_type": "stream",
     "text": [
      "        Student1  Student2  Student3\n",
      "Grade1      89.3      77.3      97.1\n",
      "Grade2      78.7      83.4      88.6\n",
      "Grade3      92.2      91.8      98.5\n"
     ]
    }
   ],
   "source": [
    "#1.手动输入\n",
    "gradebook={\n",
    "        \"Student1\": pd.Series([89.3, 78.7, 92.2], index=['Grade1', 'Grade2', 'Grade3']),\n",
    "        \"Student2\": pd.Series([77.3, 83.4, 91.8], index=['Grade1', 'Grade2', 'Grade3']),\n",
    "        \"Student3\": pd.Series([97.1, 88.6, 98.5], index=['Grade1', 'Grade2', 'Grade3'])\n",
    "        }\n",
    "gradeBookDF=pd.DataFrame(gradebook) \n",
    "print(gradeBookDF)"
   ]
  },
  {
   "cell_type": "code",
   "execution_count": 225,
   "metadata": {},
   "outputs": [
    {
     "name": "stdout",
     "output_type": "stream",
     "text": [
      "    Bob Sandy\n",
      "G1  NaN   NaN\n",
      "G2  NaN   NaN\n",
      "G3  NaN   NaN\n",
      "G4  NaN   NaN\n",
      "G5  NaN   NaN\n"
     ]
    }
   ],
   "source": [
    "#2.Create an empty dataframe 创建一个空df\n",
    "Gradebook2 = pd.DataFrame(index=['G1', 'G2', 'G3','G4','G5'], \n",
    "                          columns=['Bob', 'Sandy'])\n",
    "print(Gradebook2)"
   ]
  },
  {
   "cell_type": "code",
   "execution_count": 226,
   "metadata": {},
   "outputs": [],
   "source": [
    "#3. import data\n",
    "from sklearn.datasets import load_boston \n",
    "dataset = load_boston() \n",
    "df = pd.DataFrame(dataset.data, columns=dataset.feature_names)\n",
    "df['target'] = dataset.target"
   ]
  },
  {
   "cell_type": "code",
   "execution_count": 3,
   "metadata": {},
   "outputs": [
    {
     "ename": "FileNotFoundError",
     "evalue": "File b'dataset.csv' does not exist",
     "output_type": "error",
     "traceback": [
      "\u001b[0;31m---------------------------------------------------------------------------\u001b[0m",
      "\u001b[0;31mFileNotFoundError\u001b[0m                         Traceback (most recent call last)",
      "\u001b[0;32m<ipython-input-3-5099736cfac2>\u001b[0m in \u001b[0;36m<module>\u001b[0;34m\u001b[0m\n\u001b[1;32m      1\u001b[0m \u001b[0;31m#4. import data 2 csv\u001b[0m\u001b[0;34m\u001b[0m\u001b[0;34m\u001b[0m\u001b[0;34m\u001b[0m\u001b[0m\n\u001b[0;32m----> 2\u001b[0;31m \u001b[0mdf\u001b[0m \u001b[0;34m=\u001b[0m \u001b[0mpd\u001b[0m\u001b[0;34m.\u001b[0m\u001b[0mread_csv\u001b[0m\u001b[0;34m(\u001b[0m\u001b[0;34m'dataset.csv'\u001b[0m\u001b[0;34m)\u001b[0m\u001b[0;34m\u001b[0m\u001b[0;34m\u001b[0m\u001b[0m\n\u001b[0m",
      "\u001b[0;32m/anaconda3/lib/python3.7/site-packages/pandas/io/parsers.py\u001b[0m in \u001b[0;36mparser_f\u001b[0;34m(filepath_or_buffer, sep, delimiter, header, names, index_col, usecols, squeeze, prefix, mangle_dupe_cols, dtype, engine, converters, true_values, false_values, skipinitialspace, skiprows, nrows, na_values, keep_default_na, na_filter, verbose, skip_blank_lines, parse_dates, infer_datetime_format, keep_date_col, date_parser, dayfirst, iterator, chunksize, compression, thousands, decimal, lineterminator, quotechar, quoting, escapechar, comment, encoding, dialect, tupleize_cols, error_bad_lines, warn_bad_lines, skipfooter, doublequote, delim_whitespace, low_memory, memory_map, float_precision)\u001b[0m\n\u001b[1;32m    676\u001b[0m                     skip_blank_lines=skip_blank_lines)\n\u001b[1;32m    677\u001b[0m \u001b[0;34m\u001b[0m\u001b[0m\n\u001b[0;32m--> 678\u001b[0;31m         \u001b[0;32mreturn\u001b[0m \u001b[0m_read\u001b[0m\u001b[0;34m(\u001b[0m\u001b[0mfilepath_or_buffer\u001b[0m\u001b[0;34m,\u001b[0m \u001b[0mkwds\u001b[0m\u001b[0;34m)\u001b[0m\u001b[0;34m\u001b[0m\u001b[0;34m\u001b[0m\u001b[0m\n\u001b[0m\u001b[1;32m    679\u001b[0m \u001b[0;34m\u001b[0m\u001b[0m\n\u001b[1;32m    680\u001b[0m     \u001b[0mparser_f\u001b[0m\u001b[0;34m.\u001b[0m\u001b[0m__name__\u001b[0m \u001b[0;34m=\u001b[0m \u001b[0mname\u001b[0m\u001b[0;34m\u001b[0m\u001b[0;34m\u001b[0m\u001b[0m\n",
      "\u001b[0;32m/anaconda3/lib/python3.7/site-packages/pandas/io/parsers.py\u001b[0m in \u001b[0;36m_read\u001b[0;34m(filepath_or_buffer, kwds)\u001b[0m\n\u001b[1;32m    438\u001b[0m \u001b[0;34m\u001b[0m\u001b[0m\n\u001b[1;32m    439\u001b[0m     \u001b[0;31m# Create the parser.\u001b[0m\u001b[0;34m\u001b[0m\u001b[0;34m\u001b[0m\u001b[0;34m\u001b[0m\u001b[0m\n\u001b[0;32m--> 440\u001b[0;31m     \u001b[0mparser\u001b[0m \u001b[0;34m=\u001b[0m \u001b[0mTextFileReader\u001b[0m\u001b[0;34m(\u001b[0m\u001b[0mfilepath_or_buffer\u001b[0m\u001b[0;34m,\u001b[0m \u001b[0;34m**\u001b[0m\u001b[0mkwds\u001b[0m\u001b[0;34m)\u001b[0m\u001b[0;34m\u001b[0m\u001b[0;34m\u001b[0m\u001b[0m\n\u001b[0m\u001b[1;32m    441\u001b[0m \u001b[0;34m\u001b[0m\u001b[0m\n\u001b[1;32m    442\u001b[0m     \u001b[0;32mif\u001b[0m \u001b[0mchunksize\u001b[0m \u001b[0;32mor\u001b[0m \u001b[0miterator\u001b[0m\u001b[0;34m:\u001b[0m\u001b[0;34m\u001b[0m\u001b[0;34m\u001b[0m\u001b[0m\n",
      "\u001b[0;32m/anaconda3/lib/python3.7/site-packages/pandas/io/parsers.py\u001b[0m in \u001b[0;36m__init__\u001b[0;34m(self, f, engine, **kwds)\u001b[0m\n\u001b[1;32m    785\u001b[0m             \u001b[0mself\u001b[0m\u001b[0;34m.\u001b[0m\u001b[0moptions\u001b[0m\u001b[0;34m[\u001b[0m\u001b[0;34m'has_index_names'\u001b[0m\u001b[0;34m]\u001b[0m \u001b[0;34m=\u001b[0m \u001b[0mkwds\u001b[0m\u001b[0;34m[\u001b[0m\u001b[0;34m'has_index_names'\u001b[0m\u001b[0;34m]\u001b[0m\u001b[0;34m\u001b[0m\u001b[0;34m\u001b[0m\u001b[0m\n\u001b[1;32m    786\u001b[0m \u001b[0;34m\u001b[0m\u001b[0m\n\u001b[0;32m--> 787\u001b[0;31m         \u001b[0mself\u001b[0m\u001b[0;34m.\u001b[0m\u001b[0m_make_engine\u001b[0m\u001b[0;34m(\u001b[0m\u001b[0mself\u001b[0m\u001b[0;34m.\u001b[0m\u001b[0mengine\u001b[0m\u001b[0;34m)\u001b[0m\u001b[0;34m\u001b[0m\u001b[0;34m\u001b[0m\u001b[0m\n\u001b[0m\u001b[1;32m    788\u001b[0m \u001b[0;34m\u001b[0m\u001b[0m\n\u001b[1;32m    789\u001b[0m     \u001b[0;32mdef\u001b[0m \u001b[0mclose\u001b[0m\u001b[0;34m(\u001b[0m\u001b[0mself\u001b[0m\u001b[0;34m)\u001b[0m\u001b[0;34m:\u001b[0m\u001b[0;34m\u001b[0m\u001b[0;34m\u001b[0m\u001b[0m\n",
      "\u001b[0;32m/anaconda3/lib/python3.7/site-packages/pandas/io/parsers.py\u001b[0m in \u001b[0;36m_make_engine\u001b[0;34m(self, engine)\u001b[0m\n\u001b[1;32m   1012\u001b[0m     \u001b[0;32mdef\u001b[0m \u001b[0m_make_engine\u001b[0m\u001b[0;34m(\u001b[0m\u001b[0mself\u001b[0m\u001b[0;34m,\u001b[0m \u001b[0mengine\u001b[0m\u001b[0;34m=\u001b[0m\u001b[0;34m'c'\u001b[0m\u001b[0;34m)\u001b[0m\u001b[0;34m:\u001b[0m\u001b[0;34m\u001b[0m\u001b[0;34m\u001b[0m\u001b[0m\n\u001b[1;32m   1013\u001b[0m         \u001b[0;32mif\u001b[0m \u001b[0mengine\u001b[0m \u001b[0;34m==\u001b[0m \u001b[0;34m'c'\u001b[0m\u001b[0;34m:\u001b[0m\u001b[0;34m\u001b[0m\u001b[0;34m\u001b[0m\u001b[0m\n\u001b[0;32m-> 1014\u001b[0;31m             \u001b[0mself\u001b[0m\u001b[0;34m.\u001b[0m\u001b[0m_engine\u001b[0m \u001b[0;34m=\u001b[0m \u001b[0mCParserWrapper\u001b[0m\u001b[0;34m(\u001b[0m\u001b[0mself\u001b[0m\u001b[0;34m.\u001b[0m\u001b[0mf\u001b[0m\u001b[0;34m,\u001b[0m \u001b[0;34m**\u001b[0m\u001b[0mself\u001b[0m\u001b[0;34m.\u001b[0m\u001b[0moptions\u001b[0m\u001b[0;34m)\u001b[0m\u001b[0;34m\u001b[0m\u001b[0;34m\u001b[0m\u001b[0m\n\u001b[0m\u001b[1;32m   1015\u001b[0m         \u001b[0;32melse\u001b[0m\u001b[0;34m:\u001b[0m\u001b[0;34m\u001b[0m\u001b[0;34m\u001b[0m\u001b[0m\n\u001b[1;32m   1016\u001b[0m             \u001b[0;32mif\u001b[0m \u001b[0mengine\u001b[0m \u001b[0;34m==\u001b[0m \u001b[0;34m'python'\u001b[0m\u001b[0;34m:\u001b[0m\u001b[0;34m\u001b[0m\u001b[0;34m\u001b[0m\u001b[0m\n",
      "\u001b[0;32m/anaconda3/lib/python3.7/site-packages/pandas/io/parsers.py\u001b[0m in \u001b[0;36m__init__\u001b[0;34m(self, src, **kwds)\u001b[0m\n\u001b[1;32m   1706\u001b[0m         \u001b[0mkwds\u001b[0m\u001b[0;34m[\u001b[0m\u001b[0;34m'usecols'\u001b[0m\u001b[0;34m]\u001b[0m \u001b[0;34m=\u001b[0m \u001b[0mself\u001b[0m\u001b[0;34m.\u001b[0m\u001b[0musecols\u001b[0m\u001b[0;34m\u001b[0m\u001b[0;34m\u001b[0m\u001b[0m\n\u001b[1;32m   1707\u001b[0m \u001b[0;34m\u001b[0m\u001b[0m\n\u001b[0;32m-> 1708\u001b[0;31m         \u001b[0mself\u001b[0m\u001b[0;34m.\u001b[0m\u001b[0m_reader\u001b[0m \u001b[0;34m=\u001b[0m \u001b[0mparsers\u001b[0m\u001b[0;34m.\u001b[0m\u001b[0mTextReader\u001b[0m\u001b[0;34m(\u001b[0m\u001b[0msrc\u001b[0m\u001b[0;34m,\u001b[0m \u001b[0;34m**\u001b[0m\u001b[0mkwds\u001b[0m\u001b[0;34m)\u001b[0m\u001b[0;34m\u001b[0m\u001b[0;34m\u001b[0m\u001b[0m\n\u001b[0m\u001b[1;32m   1709\u001b[0m \u001b[0;34m\u001b[0m\u001b[0m\n\u001b[1;32m   1710\u001b[0m         \u001b[0mpassed_names\u001b[0m \u001b[0;34m=\u001b[0m \u001b[0mself\u001b[0m\u001b[0;34m.\u001b[0m\u001b[0mnames\u001b[0m \u001b[0;32mis\u001b[0m \u001b[0;32mNone\u001b[0m\u001b[0;34m\u001b[0m\u001b[0;34m\u001b[0m\u001b[0m\n",
      "\u001b[0;32mpandas/_libs/parsers.pyx\u001b[0m in \u001b[0;36mpandas._libs.parsers.TextReader.__cinit__\u001b[0;34m()\u001b[0m\n",
      "\u001b[0;32mpandas/_libs/parsers.pyx\u001b[0m in \u001b[0;36mpandas._libs.parsers.TextReader._setup_parser_source\u001b[0;34m()\u001b[0m\n",
      "\u001b[0;31mFileNotFoundError\u001b[0m: File b'dataset.csv' does not exist"
     ]
    }
   ],
   "source": [
    "#4. import data 2 csv\n",
    "df = pd.read_csv('dataset.csv')"
   ]
  },
  {
   "cell_type": "code",
   "execution_count": 10,
   "metadata": {},
   "outputs": [
    {
     "ename": "TypeError",
     "evalue": "unhashable type: 'list'",
     "output_type": "error",
     "traceback": [
      "\u001b[0;31m---------------------------------------------------------------------------\u001b[0m",
      "\u001b[0;31mTypeError\u001b[0m                                 Traceback (most recent call last)",
      "\u001b[0;32m<ipython-input-10-8093bf9e0786>\u001b[0m in \u001b[0;36m<module>\u001b[0;34m\u001b[0m\n\u001b[1;32m      5\u001b[0m \u001b[0;31m#df_temp = df_temp.append(dict_new[dict_new.keys()==columns], ignore_index=True)\u001b[0m\u001b[0;34m\u001b[0m\u001b[0;34m\u001b[0m\u001b[0;34m\u001b[0m\u001b[0m\n\u001b[1;32m      6\u001b[0m \u001b[0;34m\u001b[0m\u001b[0m\n\u001b[0;32m----> 7\u001b[0;31m \u001b[0mdict_new\u001b[0m\u001b[0;34m[\u001b[0m\u001b[0mcolumns\u001b[0m\u001b[0;34m]\u001b[0m\u001b[0;34m\u001b[0m\u001b[0;34m\u001b[0m\u001b[0m\n\u001b[0m",
      "\u001b[0;31mTypeError\u001b[0m: unhashable type: 'list'"
     ]
    }
   ],
   "source": [
    "#5. create an empty df and append rows\n",
    "columns=['title', 'aid', 'bvid']\n",
    "df_temp = pd.DataFrame(columns=['title', 'aid', 'bvid'])\n",
    "dict_new = {'title':'007', 'aid':'4821998', 'bvid':\"BV12s411i7yy\",'comment':37}\n",
    "#df_temp = df_temp.append(dict_new[dict_new.keys()==columns], ignore_index=True)\n",
    "\n",
    "dict_new[columns]"
   ]
  },
  {
   "cell_type": "markdown",
   "metadata": {},
   "source": [
    "##### select cell"
   ]
  },
  {
   "cell_type": "code",
   "execution_count": 228,
   "metadata": {},
   "outputs": [
    {
     "data": {
      "text/plain": [
       "88.6"
      ]
     },
     "execution_count": 228,
     "metadata": {},
     "output_type": "execute_result"
    }
   ],
   "source": [
    "gradeBookDF.iloc[1,2] # grade2 + student3  # row，column"
   ]
  },
  {
   "cell_type": "code",
   "execution_count": 229,
   "metadata": {},
   "outputs": [
    {
     "name": "stdout",
     "output_type": "stream",
     "text": [
      "    Bob Sandy\n",
      "G1  NaN  98.1\n",
      "G2  NaN  88.1\n",
      "G3  NaN  88.1\n",
      "G4  NaN   NaN\n",
      "G5  NaN   NaN\n"
     ]
    }
   ],
   "source": [
    "Gradebook2.loc[\"G1\",\"Sandy\"]=98.1 \n",
    "Gradebook2.loc[[\"G2\",\"G3\"],\"Sandy\"]=88.1 # row，column\n",
    "print(Gradebook2)"
   ]
  },
  {
   "cell_type": "code",
   "execution_count": 230,
   "metadata": {},
   "outputs": [
    {
     "name": "stdout",
     "output_type": "stream",
     "text": [
      "   Bob Sandy\n",
      "G1  85  98.1\n",
      "G2  92  88.1\n",
      "G3  62  88.1\n",
      "G4  93   NaN\n",
      "G5  56   NaN\n"
     ]
    }
   ],
   "source": [
    "import random #import 数据\n",
    "for i in Gradebook2.index:\n",
    "    Gradebook2.loc[i,\"Bob\"]=random.randint(50,100)\n",
    "    #print(Gradebook2)\n",
    "print(Gradebook2)"
   ]
  },
  {
   "cell_type": "markdown",
   "metadata": {},
   "source": [
    "### manipulate column\n",
    "##### select a column "
   ]
  },
  {
   "cell_type": "code",
   "execution_count": 231,
   "metadata": {},
   "outputs": [
    {
     "data": {
      "text/plain": [
       "G1    85\n",
       "G2    92\n",
       "G3    62\n",
       "G4    93\n",
       "G5    56\n",
       "Name: Bob, dtype: object"
      ]
     },
     "execution_count": 231,
     "metadata": {},
     "output_type": "execute_result"
    }
   ],
   "source": [
    "Gradebook2.iloc[:,0] # or\n",
    "Gradebook2['Bob'] # or\n",
    "Gradebook2.Bob # .values ==> return a array"
   ]
  },
  {
   "cell_type": "markdown",
   "metadata": {},
   "source": [
    "##### insert column"
   ]
  },
  {
   "cell_type": "code",
   "execution_count": 232,
   "metadata": {},
   "outputs": [
    {
     "data": {
      "text/html": [
       "<div>\n",
       "<style scoped>\n",
       "    .dataframe tbody tr th:only-of-type {\n",
       "        vertical-align: middle;\n",
       "    }\n",
       "\n",
       "    .dataframe tbody tr th {\n",
       "        vertical-align: top;\n",
       "    }\n",
       "\n",
       "    .dataframe thead th {\n",
       "        text-align: right;\n",
       "    }\n",
       "</style>\n",
       "<table border=\"1\" class=\"dataframe\">\n",
       "  <thead>\n",
       "    <tr style=\"text-align: right;\">\n",
       "      <th></th>\n",
       "      <th>Bob</th>\n",
       "      <th>Sandy</th>\n",
       "      <th>NewColumn</th>\n",
       "      <th>0</th>\n",
       "    </tr>\n",
       "  </thead>\n",
       "  <tbody>\n",
       "    <tr>\n",
       "      <th>G1</th>\n",
       "      <td>85</td>\n",
       "      <td>98.1</td>\n",
       "      <td>0</td>\n",
       "      <td>98.2</td>\n",
       "    </tr>\n",
       "    <tr>\n",
       "      <th>G2</th>\n",
       "      <td>92</td>\n",
       "      <td>88.1</td>\n",
       "      <td>0</td>\n",
       "      <td>98.2</td>\n",
       "    </tr>\n",
       "    <tr>\n",
       "      <th>G3</th>\n",
       "      <td>62</td>\n",
       "      <td>88.1</td>\n",
       "      <td>0</td>\n",
       "      <td>98.2</td>\n",
       "    </tr>\n",
       "    <tr>\n",
       "      <th>G4</th>\n",
       "      <td>93</td>\n",
       "      <td>NaN</td>\n",
       "      <td>0</td>\n",
       "      <td>98.2</td>\n",
       "    </tr>\n",
       "    <tr>\n",
       "      <th>G5</th>\n",
       "      <td>56</td>\n",
       "      <td>NaN</td>\n",
       "      <td>0</td>\n",
       "      <td>98.2</td>\n",
       "    </tr>\n",
       "  </tbody>\n",
       "</table>\n",
       "</div>"
      ],
      "text/plain": [
       "   Bob Sandy  NewColumn     0\n",
       "G1  85  98.1          0  98.2\n",
       "G2  92  88.1          0  98.2\n",
       "G3  62  88.1          0  98.2\n",
       "G4  93   NaN          0  98.2\n",
       "G5  56   NaN          0  98.2"
      ]
     },
     "execution_count": 232,
     "metadata": {},
     "output_type": "execute_result"
    }
   ],
   "source": [
    "#Create column\n",
    "Gradebook2[\"NewColumn\"]=0\n",
    "Gradebook2.loc[:,0]=98.2\n",
    "Gradebook2"
   ]
  },
  {
   "cell_type": "code",
   "execution_count": 233,
   "metadata": {},
   "outputs": [
    {
     "data": {
      "text/html": [
       "<div>\n",
       "<style scoped>\n",
       "    .dataframe tbody tr th:only-of-type {\n",
       "        vertical-align: middle;\n",
       "    }\n",
       "\n",
       "    .dataframe tbody tr th {\n",
       "        vertical-align: top;\n",
       "    }\n",
       "\n",
       "    .dataframe thead th {\n",
       "        text-align: right;\n",
       "    }\n",
       "</style>\n",
       "<table border=\"1\" class=\"dataframe\">\n",
       "  <thead>\n",
       "    <tr style=\"text-align: right;\">\n",
       "      <th></th>\n",
       "      <th>Bob</th>\n",
       "      <th>NewColumn2</th>\n",
       "      <th>Sandy</th>\n",
       "      <th>NewColumn</th>\n",
       "      <th>0</th>\n",
       "    </tr>\n",
       "  </thead>\n",
       "  <tbody>\n",
       "    <tr>\n",
       "      <th>G1</th>\n",
       "      <td>85</td>\n",
       "      <td>NaN</td>\n",
       "      <td>98.1</td>\n",
       "      <td>0</td>\n",
       "      <td>98.2</td>\n",
       "    </tr>\n",
       "    <tr>\n",
       "      <th>G2</th>\n",
       "      <td>92</td>\n",
       "      <td>NaN</td>\n",
       "      <td>88.1</td>\n",
       "      <td>0</td>\n",
       "      <td>98.2</td>\n",
       "    </tr>\n",
       "    <tr>\n",
       "      <th>G3</th>\n",
       "      <td>62</td>\n",
       "      <td>NaN</td>\n",
       "      <td>88.1</td>\n",
       "      <td>0</td>\n",
       "      <td>98.2</td>\n",
       "    </tr>\n",
       "    <tr>\n",
       "      <th>G4</th>\n",
       "      <td>93</td>\n",
       "      <td>NaN</td>\n",
       "      <td>NaN</td>\n",
       "      <td>0</td>\n",
       "      <td>98.2</td>\n",
       "    </tr>\n",
       "    <tr>\n",
       "      <th>G5</th>\n",
       "      <td>56</td>\n",
       "      <td>NaN</td>\n",
       "      <td>NaN</td>\n",
       "      <td>0</td>\n",
       "      <td>98.2</td>\n",
       "    </tr>\n",
       "  </tbody>\n",
       "</table>\n",
       "</div>"
      ],
      "text/plain": [
       "   Bob  NewColumn2 Sandy  NewColumn     0\n",
       "G1  85         NaN  98.1          0  98.2\n",
       "G2  92         NaN  88.1          0  98.2\n",
       "G3  62         NaN  88.1          0  98.2\n",
       "G4  93         NaN   NaN          0  98.2\n",
       "G5  56         NaN   NaN          0  98.2"
      ]
     },
     "execution_count": 233,
     "metadata": {},
     "output_type": "execute_result"
    }
   ],
   "source": [
    "# insert column with index \n",
    "Gradebook2.insert(1, 'NewColumn2',np.nan)  # 1 - index \n",
    "Gradebook2"
   ]
  },
  {
   "cell_type": "markdown",
   "metadata": {},
   "source": [
    "##### remove column"
   ]
  },
  {
   "cell_type": "code",
   "execution_count": 234,
   "metadata": {},
   "outputs": [
    {
     "data": {
      "text/html": [
       "<div>\n",
       "<style scoped>\n",
       "    .dataframe tbody tr th:only-of-type {\n",
       "        vertical-align: middle;\n",
       "    }\n",
       "\n",
       "    .dataframe tbody tr th {\n",
       "        vertical-align: top;\n",
       "    }\n",
       "\n",
       "    .dataframe thead th {\n",
       "        text-align: right;\n",
       "    }\n",
       "</style>\n",
       "<table border=\"1\" class=\"dataframe\">\n",
       "  <thead>\n",
       "    <tr style=\"text-align: right;\">\n",
       "      <th></th>\n",
       "      <th>Bob</th>\n",
       "      <th>Sandy</th>\n",
       "      <th>NewColumn</th>\n",
       "      <th>0</th>\n",
       "    </tr>\n",
       "  </thead>\n",
       "  <tbody>\n",
       "    <tr>\n",
       "      <th>G1</th>\n",
       "      <td>85</td>\n",
       "      <td>98.1</td>\n",
       "      <td>0</td>\n",
       "      <td>98.2</td>\n",
       "    </tr>\n",
       "    <tr>\n",
       "      <th>G2</th>\n",
       "      <td>92</td>\n",
       "      <td>88.1</td>\n",
       "      <td>0</td>\n",
       "      <td>98.2</td>\n",
       "    </tr>\n",
       "    <tr>\n",
       "      <th>G3</th>\n",
       "      <td>62</td>\n",
       "      <td>88.1</td>\n",
       "      <td>0</td>\n",
       "      <td>98.2</td>\n",
       "    </tr>\n",
       "    <tr>\n",
       "      <th>G4</th>\n",
       "      <td>93</td>\n",
       "      <td>NaN</td>\n",
       "      <td>0</td>\n",
       "      <td>98.2</td>\n",
       "    </tr>\n",
       "    <tr>\n",
       "      <th>G5</th>\n",
       "      <td>56</td>\n",
       "      <td>NaN</td>\n",
       "      <td>0</td>\n",
       "      <td>98.2</td>\n",
       "    </tr>\n",
       "  </tbody>\n",
       "</table>\n",
       "</div>"
      ],
      "text/plain": [
       "   Bob Sandy  NewColumn     0\n",
       "G1  85  98.1          0  98.2\n",
       "G2  92  88.1          0  98.2\n",
       "G3  62  88.1          0  98.2\n",
       "G4  93   NaN          0  98.2\n",
       "G5  56   NaN          0  98.2"
      ]
     },
     "execution_count": 234,
     "metadata": {},
     "output_type": "execute_result"
    }
   ],
   "source": [
    "Gradebook2=Gradebook2.drop(\"NewColumn2\", axis=1) #axis = 0 为 row\n",
    "\n",
    "\n",
    "# remove with index \n",
    "# or Gradebook2.drop(Gradebook2.columns[2],axis=1) \n",
    "\n",
    "Gradebook2"
   ]
  },
  {
   "cell_type": "markdown",
   "metadata": {},
   "source": [
    "### manipulate row\n",
    "##### select a row "
   ]
  },
  {
   "cell_type": "code",
   "execution_count": 235,
   "metadata": {},
   "outputs": [
    {
     "data": {
      "text/html": [
       "<div>\n",
       "<style scoped>\n",
       "    .dataframe tbody tr th:only-of-type {\n",
       "        vertical-align: middle;\n",
       "    }\n",
       "\n",
       "    .dataframe tbody tr th {\n",
       "        vertical-align: top;\n",
       "    }\n",
       "\n",
       "    .dataframe thead th {\n",
       "        text-align: right;\n",
       "    }\n",
       "</style>\n",
       "<table border=\"1\" class=\"dataframe\">\n",
       "  <thead>\n",
       "    <tr style=\"text-align: right;\">\n",
       "      <th></th>\n",
       "      <th>Bob</th>\n",
       "      <th>Sandy</th>\n",
       "      <th>NewColumn</th>\n",
       "      <th>0</th>\n",
       "    </tr>\n",
       "  </thead>\n",
       "  <tbody>\n",
       "    <tr>\n",
       "      <th>G1</th>\n",
       "      <td>85</td>\n",
       "      <td>98.1</td>\n",
       "      <td>0.0</td>\n",
       "      <td>98.2</td>\n",
       "    </tr>\n",
       "    <tr>\n",
       "      <th>G2</th>\n",
       "      <td>92</td>\n",
       "      <td>88.1</td>\n",
       "      <td>0.0</td>\n",
       "      <td>98.2</td>\n",
       "    </tr>\n",
       "    <tr>\n",
       "      <th>G3</th>\n",
       "      <td>62</td>\n",
       "      <td>88.1</td>\n",
       "      <td>0.0</td>\n",
       "      <td>98.2</td>\n",
       "    </tr>\n",
       "    <tr>\n",
       "      <th>G4</th>\n",
       "      <td>93</td>\n",
       "      <td>NaN</td>\n",
       "      <td>0.0</td>\n",
       "      <td>98.2</td>\n",
       "    </tr>\n",
       "    <tr>\n",
       "      <th>G5</th>\n",
       "      <td>56</td>\n",
       "      <td>NaN</td>\n",
       "      <td>0.0</td>\n",
       "      <td>98.2</td>\n",
       "    </tr>\n",
       "    <tr>\n",
       "      <th>0</th>\n",
       "      <td>NaN</td>\n",
       "      <td>NaN</td>\n",
       "      <td>234.0</td>\n",
       "      <td>NaN</td>\n",
       "    </tr>\n",
       "  </tbody>\n",
       "</table>\n",
       "</div>"
      ],
      "text/plain": [
       "    Bob Sandy  NewColumn     0\n",
       "G1   85  98.1        0.0  98.2\n",
       "G2   92  88.1        0.0  98.2\n",
       "G3   62  88.1        0.0  98.2\n",
       "G4   93   NaN        0.0  98.2\n",
       "G5   56   NaN        0.0  98.2\n",
       "0   NaN   NaN      234.0   NaN"
      ]
     },
     "execution_count": 235,
     "metadata": {},
     "output_type": "execute_result"
    }
   ],
   "source": [
    "#Create a new row\n",
    "Gradebook2.loc[0,\"NewColumn\"]= 234\n",
    "Gradebook2"
   ]
  },
  {
   "cell_type": "code",
   "execution_count": null,
   "metadata": {},
   "outputs": [],
   "source": []
  },
  {
   "cell_type": "code",
   "execution_count": null,
   "metadata": {},
   "outputs": [],
   "source": []
  },
  {
   "cell_type": "markdown",
   "metadata": {},
   "source": [
    "##### missing data"
   ]
  },
  {
   "cell_type": "code",
   "execution_count": 206,
   "metadata": {},
   "outputs": [
    {
     "data": {
      "text/plain": [
       "Index(['NewColumn2', 'Sandy'], dtype='object')"
      ]
     },
     "execution_count": 206,
     "metadata": {},
     "output_type": "execute_result"
    }
   ],
   "source": [
    "#找出有空值得col\n",
    "Gradebook2.columns[Gradebook2.isnull().any()] "
   ]
  },
  {
   "cell_type": "code",
   "execution_count": 207,
   "metadata": {},
   "outputs": [
    {
     "data": {
      "text/html": [
       "<div>\n",
       "<style scoped>\n",
       "    .dataframe tbody tr th:only-of-type {\n",
       "        vertical-align: middle;\n",
       "    }\n",
       "\n",
       "    .dataframe tbody tr th {\n",
       "        vertical-align: top;\n",
       "    }\n",
       "\n",
       "    .dataframe thead th {\n",
       "        text-align: right;\n",
       "    }\n",
       "</style>\n",
       "<table border=\"1\" class=\"dataframe\">\n",
       "  <thead>\n",
       "    <tr style=\"text-align: right;\">\n",
       "      <th></th>\n",
       "      <th>Bob</th>\n",
       "      <th>NewColumn2</th>\n",
       "      <th>Sandy</th>\n",
       "      <th>NewColumn</th>\n",
       "    </tr>\n",
       "  </thead>\n",
       "  <tbody>\n",
       "    <tr>\n",
       "      <th>G1</th>\n",
       "      <td>65</td>\n",
       "      <td>NaN</td>\n",
       "      <td>98.1</td>\n",
       "      <td>98.2</td>\n",
       "    </tr>\n",
       "    <tr>\n",
       "      <th>G2</th>\n",
       "      <td>70</td>\n",
       "      <td>NaN</td>\n",
       "      <td>88.1</td>\n",
       "      <td>0.0</td>\n",
       "    </tr>\n",
       "    <tr>\n",
       "      <th>G3</th>\n",
       "      <td>84</td>\n",
       "      <td>NaN</td>\n",
       "      <td>88.1</td>\n",
       "      <td>0.0</td>\n",
       "    </tr>\n",
       "    <tr>\n",
       "      <th>G4</th>\n",
       "      <td>56</td>\n",
       "      <td>NaN</td>\n",
       "      <td>NaN</td>\n",
       "      <td>0.0</td>\n",
       "    </tr>\n",
       "    <tr>\n",
       "      <th>G5</th>\n",
       "      <td>55</td>\n",
       "      <td>NaN</td>\n",
       "      <td>NaN</td>\n",
       "      <td>0.0</td>\n",
       "    </tr>\n",
       "  </tbody>\n",
       "</table>\n",
       "</div>"
      ],
      "text/plain": [
       "   Bob  NewColumn2 Sandy  NewColumn\n",
       "G1  65         NaN  98.1       98.2\n",
       "G2  70         NaN  88.1        0.0\n",
       "G3  84         NaN  88.1        0.0\n",
       "G4  56         NaN   NaN        0.0\n",
       "G5  55         NaN   NaN        0.0"
      ]
     },
     "execution_count": 207,
     "metadata": {},
     "output_type": "execute_result"
    }
   ],
   "source": [
    "#找出有空值得row\n",
    "Gradebook2[Gradebook2.isnull().any(axis=1)] \n",
    "#Gradebook2.index[Gradebook2.isnull().any(axis=1)] \n"
   ]
  },
  {
   "cell_type": "markdown",
   "metadata": {},
   "source": [
    "##### Remove 空值"
   ]
  },
  {
   "cell_type": "code",
   "execution_count": 208,
   "metadata": {},
   "outputs": [
    {
     "data": {
      "text/html": [
       "<div>\n",
       "<style scoped>\n",
       "    .dataframe tbody tr th:only-of-type {\n",
       "        vertical-align: middle;\n",
       "    }\n",
       "\n",
       "    .dataframe tbody tr th {\n",
       "        vertical-align: top;\n",
       "    }\n",
       "\n",
       "    .dataframe thead th {\n",
       "        text-align: right;\n",
       "    }\n",
       "</style>\n",
       "<table border=\"1\" class=\"dataframe\">\n",
       "  <thead>\n",
       "    <tr style=\"text-align: right;\">\n",
       "      <th></th>\n",
       "      <th>Bob</th>\n",
       "      <th>NewColumn2</th>\n",
       "      <th>Sandy</th>\n",
       "      <th>NewColumn</th>\n",
       "    </tr>\n",
       "  </thead>\n",
       "  <tbody>\n",
       "    <tr>\n",
       "      <th>G1</th>\n",
       "      <td>65</td>\n",
       "      <td>NaN</td>\n",
       "      <td>98.1</td>\n",
       "      <td>98.2</td>\n",
       "    </tr>\n",
       "    <tr>\n",
       "      <th>G2</th>\n",
       "      <td>70</td>\n",
       "      <td>NaN</td>\n",
       "      <td>88.1</td>\n",
       "      <td>0.0</td>\n",
       "    </tr>\n",
       "    <tr>\n",
       "      <th>G3</th>\n",
       "      <td>84</td>\n",
       "      <td>NaN</td>\n",
       "      <td>88.1</td>\n",
       "      <td>0.0</td>\n",
       "    </tr>\n",
       "  </tbody>\n",
       "</table>\n",
       "</div>"
      ],
      "text/plain": [
       "   Bob  NewColumn2 Sandy  NewColumn\n",
       "G1  65         NaN  98.1       98.2\n",
       "G2  70         NaN  88.1        0.0\n",
       "G3  84         NaN  88.1        0.0"
      ]
     },
     "execution_count": 208,
     "metadata": {},
     "output_type": "execute_result"
    }
   ],
   "source": [
    "#replace NaN to 0\n",
    "#Gradebook2=Gradebook2.fillna(0) \n",
    "\n",
    "#删除某一列的有missing value row\n",
    "Gradebook2 = Gradebook2[Gradebook2['Sandy'].notnull()] # or\n",
    "\n",
    "#删除全部有missing value 的 row\n",
    "#Gradebook2[~Gradebook2.isnull().any(axis=1)] # or\n",
    "\n",
    "Gradebook2"
   ]
  },
  {
   "cell_type": "markdown",
   "metadata": {},
   "source": [
    "##### reading data"
   ]
  },
  {
   "cell_type": "code",
   "execution_count": 82,
   "metadata": {},
   "outputs": [
    {
     "data": {
      "text/html": [
       "<div>\n",
       "<style scoped>\n",
       "    .dataframe tbody tr th:only-of-type {\n",
       "        vertical-align: middle;\n",
       "    }\n",
       "\n",
       "    .dataframe tbody tr th {\n",
       "        vertical-align: top;\n",
       "    }\n",
       "\n",
       "    .dataframe thead th {\n",
       "        text-align: right;\n",
       "    }\n",
       "</style>\n",
       "<table border=\"1\" class=\"dataframe\">\n",
       "  <thead>\n",
       "    <tr style=\"text-align: right;\">\n",
       "      <th></th>\n",
       "      <th>CRIM</th>\n",
       "      <th>ZN</th>\n",
       "      <th>INDUS</th>\n",
       "      <th>CHAS</th>\n",
       "      <th>NOX</th>\n",
       "      <th>RM</th>\n",
       "      <th>AGE</th>\n",
       "      <th>DIS</th>\n",
       "      <th>RAD</th>\n",
       "      <th>TAX</th>\n",
       "      <th>PTRATIO</th>\n",
       "      <th>B</th>\n",
       "      <th>LSTAT</th>\n",
       "      <th>target</th>\n",
       "    </tr>\n",
       "  </thead>\n",
       "  <tbody>\n",
       "    <tr>\n",
       "      <th>0</th>\n",
       "      <td>0.00632</td>\n",
       "      <td>18.0</td>\n",
       "      <td>2.31</td>\n",
       "      <td>0.0</td>\n",
       "      <td>0.538</td>\n",
       "      <td>6.575</td>\n",
       "      <td>65.2</td>\n",
       "      <td>4.0900</td>\n",
       "      <td>1.0</td>\n",
       "      <td>296.0</td>\n",
       "      <td>15.3</td>\n",
       "      <td>396.90</td>\n",
       "      <td>4.98</td>\n",
       "      <td>24.0</td>\n",
       "    </tr>\n",
       "    <tr>\n",
       "      <th>1</th>\n",
       "      <td>0.02731</td>\n",
       "      <td>0.0</td>\n",
       "      <td>7.07</td>\n",
       "      <td>0.0</td>\n",
       "      <td>0.469</td>\n",
       "      <td>6.421</td>\n",
       "      <td>78.9</td>\n",
       "      <td>4.9671</td>\n",
       "      <td>2.0</td>\n",
       "      <td>242.0</td>\n",
       "      <td>17.8</td>\n",
       "      <td>396.90</td>\n",
       "      <td>9.14</td>\n",
       "      <td>21.6</td>\n",
       "    </tr>\n",
       "    <tr>\n",
       "      <th>2</th>\n",
       "      <td>0.02729</td>\n",
       "      <td>0.0</td>\n",
       "      <td>7.07</td>\n",
       "      <td>0.0</td>\n",
       "      <td>0.469</td>\n",
       "      <td>7.185</td>\n",
       "      <td>61.1</td>\n",
       "      <td>4.9671</td>\n",
       "      <td>2.0</td>\n",
       "      <td>242.0</td>\n",
       "      <td>17.8</td>\n",
       "      <td>392.83</td>\n",
       "      <td>4.03</td>\n",
       "      <td>34.7</td>\n",
       "    </tr>\n",
       "    <tr>\n",
       "      <th>3</th>\n",
       "      <td>0.03237</td>\n",
       "      <td>0.0</td>\n",
       "      <td>2.18</td>\n",
       "      <td>0.0</td>\n",
       "      <td>0.458</td>\n",
       "      <td>6.998</td>\n",
       "      <td>45.8</td>\n",
       "      <td>6.0622</td>\n",
       "      <td>3.0</td>\n",
       "      <td>222.0</td>\n",
       "      <td>18.7</td>\n",
       "      <td>394.63</td>\n",
       "      <td>2.94</td>\n",
       "      <td>33.4</td>\n",
       "    </tr>\n",
       "    <tr>\n",
       "      <th>4</th>\n",
       "      <td>0.06905</td>\n",
       "      <td>0.0</td>\n",
       "      <td>2.18</td>\n",
       "      <td>0.0</td>\n",
       "      <td>0.458</td>\n",
       "      <td>7.147</td>\n",
       "      <td>54.2</td>\n",
       "      <td>6.0622</td>\n",
       "      <td>3.0</td>\n",
       "      <td>222.0</td>\n",
       "      <td>18.7</td>\n",
       "      <td>396.90</td>\n",
       "      <td>5.33</td>\n",
       "      <td>36.2</td>\n",
       "    </tr>\n",
       "    <tr>\n",
       "      <th>5</th>\n",
       "      <td>0.02985</td>\n",
       "      <td>0.0</td>\n",
       "      <td>2.18</td>\n",
       "      <td>0.0</td>\n",
       "      <td>0.458</td>\n",
       "      <td>6.430</td>\n",
       "      <td>58.7</td>\n",
       "      <td>6.0622</td>\n",
       "      <td>3.0</td>\n",
       "      <td>222.0</td>\n",
       "      <td>18.7</td>\n",
       "      <td>394.12</td>\n",
       "      <td>5.21</td>\n",
       "      <td>28.7</td>\n",
       "    </tr>\n",
       "    <tr>\n",
       "      <th>6</th>\n",
       "      <td>0.08829</td>\n",
       "      <td>12.5</td>\n",
       "      <td>7.87</td>\n",
       "      <td>0.0</td>\n",
       "      <td>0.524</td>\n",
       "      <td>6.012</td>\n",
       "      <td>66.6</td>\n",
       "      <td>5.5605</td>\n",
       "      <td>5.0</td>\n",
       "      <td>311.0</td>\n",
       "      <td>15.2</td>\n",
       "      <td>395.60</td>\n",
       "      <td>12.43</td>\n",
       "      <td>22.9</td>\n",
       "    </tr>\n",
       "    <tr>\n",
       "      <th>7</th>\n",
       "      <td>0.14455</td>\n",
       "      <td>12.5</td>\n",
       "      <td>7.87</td>\n",
       "      <td>0.0</td>\n",
       "      <td>0.524</td>\n",
       "      <td>6.172</td>\n",
       "      <td>96.1</td>\n",
       "      <td>5.9505</td>\n",
       "      <td>5.0</td>\n",
       "      <td>311.0</td>\n",
       "      <td>15.2</td>\n",
       "      <td>396.90</td>\n",
       "      <td>19.15</td>\n",
       "      <td>27.1</td>\n",
       "    </tr>\n",
       "    <tr>\n",
       "      <th>8</th>\n",
       "      <td>0.21124</td>\n",
       "      <td>12.5</td>\n",
       "      <td>7.87</td>\n",
       "      <td>0.0</td>\n",
       "      <td>0.524</td>\n",
       "      <td>5.631</td>\n",
       "      <td>100.0</td>\n",
       "      <td>6.0821</td>\n",
       "      <td>5.0</td>\n",
       "      <td>311.0</td>\n",
       "      <td>15.2</td>\n",
       "      <td>386.63</td>\n",
       "      <td>29.93</td>\n",
       "      <td>16.5</td>\n",
       "    </tr>\n",
       "    <tr>\n",
       "      <th>9</th>\n",
       "      <td>0.17004</td>\n",
       "      <td>12.5</td>\n",
       "      <td>7.87</td>\n",
       "      <td>0.0</td>\n",
       "      <td>0.524</td>\n",
       "      <td>6.004</td>\n",
       "      <td>85.9</td>\n",
       "      <td>6.5921</td>\n",
       "      <td>5.0</td>\n",
       "      <td>311.0</td>\n",
       "      <td>15.2</td>\n",
       "      <td>386.71</td>\n",
       "      <td>17.10</td>\n",
       "      <td>18.9</td>\n",
       "    </tr>\n",
       "  </tbody>\n",
       "</table>\n",
       "</div>"
      ],
      "text/plain": [
       "      CRIM    ZN  INDUS  CHAS    NOX     RM    AGE     DIS  RAD    TAX  \\\n",
       "0  0.00632  18.0   2.31   0.0  0.538  6.575   65.2  4.0900  1.0  296.0   \n",
       "1  0.02731   0.0   7.07   0.0  0.469  6.421   78.9  4.9671  2.0  242.0   \n",
       "2  0.02729   0.0   7.07   0.0  0.469  7.185   61.1  4.9671  2.0  242.0   \n",
       "3  0.03237   0.0   2.18   0.0  0.458  6.998   45.8  6.0622  3.0  222.0   \n",
       "4  0.06905   0.0   2.18   0.0  0.458  7.147   54.2  6.0622  3.0  222.0   \n",
       "5  0.02985   0.0   2.18   0.0  0.458  6.430   58.7  6.0622  3.0  222.0   \n",
       "6  0.08829  12.5   7.87   0.0  0.524  6.012   66.6  5.5605  5.0  311.0   \n",
       "7  0.14455  12.5   7.87   0.0  0.524  6.172   96.1  5.9505  5.0  311.0   \n",
       "8  0.21124  12.5   7.87   0.0  0.524  5.631  100.0  6.0821  5.0  311.0   \n",
       "9  0.17004  12.5   7.87   0.0  0.524  6.004   85.9  6.5921  5.0  311.0   \n",
       "\n",
       "   PTRATIO       B  LSTAT  target  \n",
       "0     15.3  396.90   4.98    24.0  \n",
       "1     17.8  396.90   9.14    21.6  \n",
       "2     17.8  392.83   4.03    34.7  \n",
       "3     18.7  394.63   2.94    33.4  \n",
       "4     18.7  396.90   5.33    36.2  \n",
       "5     18.7  394.12   5.21    28.7  \n",
       "6     15.2  395.60  12.43    22.9  \n",
       "7     15.2  396.90  19.15    27.1  \n",
       "8     15.2  386.63  29.93    16.5  \n",
       "9     15.2  386.71  17.10    18.9  "
      ]
     },
     "execution_count": 82,
     "metadata": {},
     "output_type": "execute_result"
    }
   ],
   "source": [
    "# 查看data\n",
    "df.head(10)"
   ]
  },
  {
   "cell_type": "code",
   "execution_count": 83,
   "metadata": {},
   "outputs": [
    {
     "data": {
      "text/plain": [
       "Index(['CRIM', 'ZN', 'INDUS', 'CHAS', 'NOX', 'RM', 'AGE', 'DIS', 'RAD', 'TAX',\n",
       "       'PTRATIO', 'B', 'LSTAT', 'target'],\n",
       "      dtype='object')"
      ]
     },
     "execution_count": 83,
     "metadata": {},
     "output_type": "execute_result"
    }
   ],
   "source": [
    "list(df.columns.values)\n",
    "#or\n",
    "df.columns"
   ]
  },
  {
   "cell_type": "code",
   "execution_count": 84,
   "metadata": {},
   "outputs": [
    {
     "data": {
      "text/plain": [
       "(506, 14)"
      ]
     },
     "execution_count": 84,
     "metadata": {},
     "output_type": "execute_result"
    }
   ],
   "source": [
    "df.shape #(row, column)"
   ]
  },
  {
   "cell_type": "code",
   "execution_count": 85,
   "metadata": {},
   "outputs": [
    {
     "data": {
      "text/plain": [
       "RangeIndex(start=0, stop=506, step=1)"
      ]
     },
     "execution_count": 85,
     "metadata": {},
     "output_type": "execute_result"
    }
   ],
   "source": [
    "df.index"
   ]
  },
  {
   "cell_type": "code",
   "execution_count": 86,
   "metadata": {},
   "outputs": [
    {
     "data": {
      "text/plain": [
       "array([296., 242., 222., 311., 307., 279., 252., 233., 243., 469., 226.,\n",
       "       313., 256., 284., 216., 337., 345., 305., 398., 281., 247., 270.,\n",
       "       276., 384., 432., 188., 437., 403., 193., 265., 255., 329., 402.,\n",
       "       348., 224., 277., 300., 330., 315., 244., 264., 223., 254., 198.,\n",
       "       285., 241., 293., 245., 289., 358., 304., 287., 430., 422., 370.,\n",
       "       352., 351., 280., 335., 411., 187., 334., 666., 711., 391., 273.])"
      ]
     },
     "execution_count": 86,
     "metadata": {},
     "output_type": "execute_result"
    }
   ],
   "source": [
    "df.TAX.unique()"
   ]
  },
  {
   "cell_type": "code",
   "execution_count": 87,
   "metadata": {},
   "outputs": [
    {
     "data": {
      "text/plain": [
       "CRIM       float64\n",
       "ZN         float64\n",
       "INDUS      float64\n",
       "CHAS       float64\n",
       "NOX        float64\n",
       "RM         float64\n",
       "AGE        float64\n",
       "DIS        float64\n",
       "RAD        float64\n",
       "TAX        float64\n",
       "PTRATIO    float64\n",
       "B          float64\n",
       "LSTAT      float64\n",
       "target     float64\n",
       "dtype: object"
      ]
     },
     "execution_count": 87,
     "metadata": {},
     "output_type": "execute_result"
    }
   ],
   "source": [
    "df.dtypes"
   ]
  },
  {
   "cell_type": "markdown",
   "metadata": {},
   "source": [
    "##### wrangling data --- convert type"
   ]
  },
  {
   "cell_type": "code",
   "execution_count": 169,
   "metadata": {},
   "outputs": [
    {
     "data": {
      "text/plain": [
       "CRIM        float64\n",
       "ZN         category\n",
       "INDUS       float64\n",
       "CHAS        float64\n",
       "NOX         float64\n",
       "RM          float64\n",
       "AGE         float64\n",
       "DIS         float64\n",
       "RAD         float64\n",
       "TAX          object\n",
       "PTRATIO     float64\n",
       "B           float64\n",
       "LSTAT       float64\n",
       "target      float64\n",
       "dtype: object"
      ]
     },
     "execution_count": 169,
     "metadata": {},
     "output_type": "execute_result"
    }
   ],
   "source": [
    "# convert type\n",
    "df.TAX = df.TAX.astype (str) \n",
    "df.ZN.astype (\"category\")\n",
    "df.ZN = pd.Categorical(df.ZN) \n",
    "df.dtypes"
   ]
  },
  {
   "cell_type": "code",
   "execution_count": 170,
   "metadata": {},
   "outputs": [
    {
     "data": {
      "text/html": [
       "<div>\n",
       "<style scoped>\n",
       "    .dataframe tbody tr th:only-of-type {\n",
       "        vertical-align: middle;\n",
       "    }\n",
       "\n",
       "    .dataframe tbody tr th {\n",
       "        vertical-align: top;\n",
       "    }\n",
       "\n",
       "    .dataframe thead th {\n",
       "        text-align: right;\n",
       "    }\n",
       "</style>\n",
       "<table border=\"1\" class=\"dataframe\">\n",
       "  <thead>\n",
       "    <tr style=\"text-align: right;\">\n",
       "      <th></th>\n",
       "      <th>CRIM</th>\n",
       "      <th>ZN</th>\n",
       "      <th>NewColumn</th>\n",
       "      <th>INDUS</th>\n",
       "      <th>CHAS</th>\n",
       "      <th>NOX</th>\n",
       "      <th>RM</th>\n",
       "      <th>AGE</th>\n",
       "      <th>DIS</th>\n",
       "      <th>RAD</th>\n",
       "      <th>TAX</th>\n",
       "      <th>PTRATIO</th>\n",
       "      <th>B</th>\n",
       "      <th>LSTAT</th>\n",
       "      <th>target</th>\n",
       "    </tr>\n",
       "  </thead>\n",
       "  <tbody>\n",
       "    <tr>\n",
       "      <th>0</th>\n",
       "      <td>0.00632</td>\n",
       "      <td>18.0</td>\n",
       "      <td>0</td>\n",
       "      <td>2.31</td>\n",
       "      <td>0.0</td>\n",
       "      <td>0.538</td>\n",
       "      <td>6.575</td>\n",
       "      <td>65.2</td>\n",
       "      <td>4.0900</td>\n",
       "      <td>1.0</td>\n",
       "      <td>296.0</td>\n",
       "      <td>15.3</td>\n",
       "      <td>396.90</td>\n",
       "      <td>4.98</td>\n",
       "      <td>24.0</td>\n",
       "    </tr>\n",
       "    <tr>\n",
       "      <th>1</th>\n",
       "      <td>0.02731</td>\n",
       "      <td>0.0</td>\n",
       "      <td>0</td>\n",
       "      <td>7.07</td>\n",
       "      <td>0.0</td>\n",
       "      <td>0.469</td>\n",
       "      <td>6.421</td>\n",
       "      <td>78.9</td>\n",
       "      <td>4.9671</td>\n",
       "      <td>2.0</td>\n",
       "      <td>242.0</td>\n",
       "      <td>17.8</td>\n",
       "      <td>396.90</td>\n",
       "      <td>9.14</td>\n",
       "      <td>21.6</td>\n",
       "    </tr>\n",
       "    <tr>\n",
       "      <th>2</th>\n",
       "      <td>0.02729</td>\n",
       "      <td>0.0</td>\n",
       "      <td>0</td>\n",
       "      <td>7.07</td>\n",
       "      <td>0.0</td>\n",
       "      <td>0.469</td>\n",
       "      <td>7.185</td>\n",
       "      <td>61.1</td>\n",
       "      <td>4.9671</td>\n",
       "      <td>2.0</td>\n",
       "      <td>242.0</td>\n",
       "      <td>17.8</td>\n",
       "      <td>392.83</td>\n",
       "      <td>4.03</td>\n",
       "      <td>34.7</td>\n",
       "    </tr>\n",
       "    <tr>\n",
       "      <th>3</th>\n",
       "      <td>0.03237</td>\n",
       "      <td>0.0</td>\n",
       "      <td>0</td>\n",
       "      <td>2.18</td>\n",
       "      <td>0.0</td>\n",
       "      <td>0.458</td>\n",
       "      <td>6.998</td>\n",
       "      <td>45.8</td>\n",
       "      <td>6.0622</td>\n",
       "      <td>3.0</td>\n",
       "      <td>222.0</td>\n",
       "      <td>18.7</td>\n",
       "      <td>394.63</td>\n",
       "      <td>2.94</td>\n",
       "      <td>33.4</td>\n",
       "    </tr>\n",
       "    <tr>\n",
       "      <th>4</th>\n",
       "      <td>0.06905</td>\n",
       "      <td>0.0</td>\n",
       "      <td>0</td>\n",
       "      <td>2.18</td>\n",
       "      <td>0.0</td>\n",
       "      <td>0.458</td>\n",
       "      <td>7.147</td>\n",
       "      <td>54.2</td>\n",
       "      <td>6.0622</td>\n",
       "      <td>3.0</td>\n",
       "      <td>222.0</td>\n",
       "      <td>18.7</td>\n",
       "      <td>396.90</td>\n",
       "      <td>5.33</td>\n",
       "      <td>36.2</td>\n",
       "    </tr>\n",
       "  </tbody>\n",
       "</table>\n",
       "</div>"
      ],
      "text/plain": [
       "      CRIM    ZN  NewColumn  INDUS  CHAS    NOX     RM   AGE     DIS  RAD  \\\n",
       "0  0.00632  18.0          0   2.31   0.0  0.538  6.575  65.2  4.0900  1.0   \n",
       "1  0.02731   0.0          0   7.07   0.0  0.469  6.421  78.9  4.9671  2.0   \n",
       "2  0.02729   0.0          0   7.07   0.0  0.469  7.185  61.1  4.9671  2.0   \n",
       "3  0.03237   0.0          0   2.18   0.0  0.458  6.998  45.8  6.0622  3.0   \n",
       "4  0.06905   0.0          0   2.18   0.0  0.458  7.147  54.2  6.0622  3.0   \n",
       "\n",
       "     TAX  PTRATIO       B  LSTAT  target  \n",
       "0  296.0     15.3  396.90   4.98    24.0  \n",
       "1  242.0     17.8  396.90   9.14    21.6  \n",
       "2  242.0     17.8  392.83   4.03    34.7  \n",
       "3  222.0     18.7  394.63   2.94    33.4  \n",
       "4  222.0     18.7  396.90   5.33    36.2  "
      ]
     },
     "execution_count": 170,
     "metadata": {},
     "output_type": "execute_result"
    }
   ],
   "source": [
    "df['time'].sort_values()"
   ]
  },
  {
   "cell_type": "markdown",
   "metadata": {},
   "source": [
    "##### 筛选"
   ]
  },
  {
   "cell_type": "code",
   "execution_count": 171,
   "metadata": {},
   "outputs": [
    {
     "data": {
      "text/plain": [
       "array(['296.0', '242.0', '222.0', '311.0', '307.0', '279.0', '252.0',\n",
       "       '233.0', '243.0', '469.0', '226.0', '313.0', '256.0', '284.0',\n",
       "       '216.0', '337.0', '345.0', '305.0', '398.0', '281.0', '247.0',\n",
       "       '270.0', '276.0', '384.0', '432.0', '188.0', '437.0', '403.0',\n",
       "       '193.0', '265.0', '255.0', '329.0', '402.0', '348.0', '224.0',\n",
       "       '277.0', '300.0', '330.0', '315.0', '244.0', '264.0', '223.0',\n",
       "       '254.0', '198.0', '285.0', '241.0', '293.0', '245.0', '289.0',\n",
       "       '358.0', '304.0', '287.0', '430.0', '422.0', '370.0', '352.0',\n",
       "       '351.0', '280.0', '335.0', '411.0', '187.0', '334.0', '666.0',\n",
       "       '711.0', '391.0', '273.0'], dtype=object)"
      ]
     },
     "execution_count": 171,
     "metadata": {},
     "output_type": "execute_result"
    }
   ],
   "source": [
    "df.TAX.unique()"
   ]
  },
  {
   "cell_type": "code",
   "execution_count": 172,
   "metadata": {},
   "outputs": [
    {
     "data": {
      "text/plain": [
       "array(['22', '311.0', '307.0', '469.0', '313.0', '337.0', '345.0',\n",
       "       '305.0', '398.0', '384.0', '188.0', '437.0', '403.0', '193.0',\n",
       "       '348.0', '300.0', '330.0', '315.0', '198.0', '358.0', '304.0',\n",
       "       '430.0', '370.0', '351.0', '335.0', '411.0', '187.0', '334.0',\n",
       "       '666.0', '711.0', '391.0'], dtype=object)"
      ]
     },
     "execution_count": 172,
     "metadata": {},
     "output_type": "execute_result"
    }
   ],
   "source": [
    "df.loc[df.TAX.str.contains('2'),'TAX'] = '22'   # 修改所有包含字符2的\n",
    "df.TAX.unique()"
   ]
  },
  {
   "cell_type": "code",
   "execution_count": 173,
   "metadata": {},
   "outputs": [
    {
     "data": {
      "text/plain": [
       "array(['311.0', '307.0', '469.0', '313.0', '337.0', '345.0', '305.0',\n",
       "       '398.0', '384.0', '188.0', '437.0', '403.0', '193.0', '348.0',\n",
       "       '300.0', '330.0', '315.0', '198.0', '358.0', '304.0', '430.0',\n",
       "       '370.0', '351.0', '335.0', '411.0', '187.0', '334.0', '666.0',\n",
       "       '711.0', '391.0'], dtype=object)"
      ]
     },
     "execution_count": 173,
     "metadata": {},
     "output_type": "execute_result"
    }
   ],
   "source": [
    "df = df[~df.TAX.str.match('22')]      # 删除所有字符‘22’\n",
    "df.TAX.unique()"
   ]
  },
  {
   "cell_type": "code",
   "execution_count": 174,
   "metadata": {},
   "outputs": [
    {
     "data": {
      "text/plain": [
       "array(['307.0', '469.0', '313.0', '337.0', '345.0', '305.0', '398.0',\n",
       "       '384.0', '188.0', '437.0', '403.0', '193.0', '348.0', '300.0',\n",
       "       '330.0', '315.0', '198.0', '358.0', '304.0', '430.0', '370.0',\n",
       "       '351.0', '335.0', '411.0', '187.0', '334.0', '666.0', '711.0',\n",
       "       '391.0'], dtype=object)"
      ]
     },
     "execution_count": 174,
     "metadata": {},
     "output_type": "execute_result"
    }
   ],
   "source": [
    "df = df[df.TAX != '311.0']\n",
    "df.TAX.unique()"
   ]
  },
  {
   "cell_type": "code",
   "execution_count": null,
   "metadata": {},
   "outputs": [],
   "source": [
    "\n",
    "df=df.drop(\"Degree\", axis=1)\n",
    "#axis=1 is the column, axis=0 is the row\n",
    "#Remove the first row (row 0)\n",
    "DictDF=DictDF.drop(0)\n",
    "print(DictDF)"
   ]
  },
  {
   "cell_type": "markdown",
   "metadata": {},
   "source": []
  },
  {
   "cell_type": "code",
   "execution_count": null,
   "metadata": {},
   "outputs": [],
   "source": [
    "\n",
    "\n",
    "\n",
    "#2. convert from other type\n",
    "MyDict=[{\"Name\":\"Bob\", \"Age\":29, \"Degree\":\"MS\"}, {\"Name\":\"Rob\", \"Age\":34, \"Degree\":\"PhD\"}]\n",
    "DictDF=pd.DataFrame.from_dict(MyDict)\n",
    "DictDF.insert(2, 'NewColumn', [20007, 23604])\n",
    "#REMOVE the “Degree” column\n",
    "DictDF=DictDF.drop(\"Degree\", axis=1)\n",
    "#axis=1 is the column, axis=0 is the row\n",
    "#Remove the first row (row 0)\n",
    "DictDF=DictDF.drop(0)\n",
    "print(DictDF)\n",
    "\n",
    "\n",
    "######### cleaning data\n",
    "#convert the type of column id to string\n",
    "stu_df.id = stu_df.id.astype (str) \n",
    "   # stu_df.id.astype (\"category\")\n",
    "   #or df.Sex = pd.Categorical(df.Sex) # \n",
    "#Remove rows with IDs that are not 6 in length.\n",
    "stu_df = stu_df[stu_df.id.map(len)==6] \n",
    "#Remove rows with genders other than 1 or 2.\n",
    "stu_df = stu_df[(stu_df['gender']==1)|(stu_df['gender']==2 )]\n",
    "#Remove rows with ages outside of range.[18,80]\n",
    "stu_df = stu_df[(stu_df['age']>=18)&(stu_df['age']<=80)] \n",
    "#Remove rows with incorrect or missing gpa values.\n",
    "stu_df = stu_df[(stu_df['gpa']>=float(0))&(stu_df['gpa']<=float(4.00))] \n",
    "#Remove rows with sat missing or out of range [0,1600].\n",
    "stu_df = stu_df[(stu_df.sat>=0)&(stu_df.sat<=1600)] \n",
    "#Remove rows with sections that are missing.\n",
    "stu_df = stu_df[stu_df['section'].notnull()]\n",
    "#Remove rows with any incorrect or missing values of final\n",
    "stu_df = stu_df[(stu_df.final>=0)&(stu_df.final<=100)] \n",
    "#Remove rows with any incorrect or missing values of final\n",
    "stu_df = stu_df[(stu_df.project>=0)&(stu_df.project<=100)] \n",
    "\n",
    "#找出有空值得col\n",
    "null_columns=df.columns[df.isnull().any()]\n",
    "#replace NaN to 0\n",
    "df=df.fillna(0) \n",
    "\n",
    "#change type\n",
    "#df.Items =  df.Items.astype ('category') \n",
    "\n",
    "\n",
    "\n",
    "#1\n",
    "bins = [0,2,2.5,3,3.5,4]\n",
    "labels = ['F','D','C','B','A']\n",
    "stu_df['binned'] = pd.cut(stu_df['gpa'], bins=bins, labels=labels)\n",
    "\n",
    "\n",
    "pd.set_option('display.max_columns', None) #\n",
    "\n",
    "# =============================================================================\n",
    "# # t-test for independent samples\n",
    "# =============================================================================\n",
    "from math import sqrt\n",
    "from numpy.random import seed\n",
    "from numpy.random import randn\n",
    "from numpy import mean\n",
    "from scipy.stats import sem\n",
    "from scipy.stats import t\n",
    "\n",
    "# function for calculating the t-test for two independent samples\n",
    "def independent_ttest(data1, data2, alpha):\n",
    "\t# calculate means\n",
    "\tmean1, mean2 = mean(data1), mean(data2)\n",
    "\t# calculate standard errors\n",
    "\tse1, se2 = sem(data1), sem(data2)\n",
    "\t# standard error on the difference between the samples\n",
    "\tsed = sqrt(se1**2.0 + se2**2.0)\n",
    "\t# calculate the t statistic\n",
    "\tt_stat = (mean1 - mean2) / sed\n",
    "\t# degrees of freedom\n",
    "\tdf = len(data1) + len(data2) - 2\n",
    "\t# calculate the critical value\n",
    "\tcv = t.ppf(1.0 - alpha, df)\n",
    "\t# calculate the p-value\n",
    "\tp = (1.0 - t.cdf(abs(t_stat), df)) * 2.0\n",
    "\t# return everything\n",
    "\treturn t_stat, df, cv, p\n",
    "\n",
    "# seed the random number generator\n",
    "seed(1)\n",
    "# generate two independent samples\n",
    "data1 = 5 * randn(100) + 50\n",
    "data2 = 5 * randn(100) + 51\n",
    "# calculate the t test\n",
    "alpha = 0.05\n",
    "t_stat, df, cv, p = independent_ttest(data1, data2, alpha)\n",
    "print('t=%.3f, df=%d, cv=%.3f, p=%.3f' % (t_stat, df, cv, p))\n",
    "# interpret via critical value\n",
    "if abs(t_stat) <= cv:\n",
    "\tprint('Accept null hypothesis that the means are equal.')\n",
    "else:\n",
    "\tprint('Reject the null hypothesis that the means are equal.')\n",
    "# interpret via p-value\n",
    "if p > alpha:\n",
    "\tprint('Accept null hypothesis that the means are equal.')\n",
    "else:\n",
    "\tprint('Reject the null hypothesis that the means are equal.')\n",
    "    \n",
    "    \n",
    "    \n",
    "    \n",
    "# =============================================================================\n",
    "# R_Squared    \n",
    "# =============================================================================\n",
    "### Method 1\n",
    "from statistics import mean\n",
    "# R^2 = SSR / SST\n",
    "# create function that calculate regression line (Yi_hat = b0+b1*Xi) for y_hat \n",
    "def reg_line (x,y): # x = variable 1, y = variable 2\n",
    "    n = len(x) # n = sample size\n",
    "    xbar = mean(x)\n",
    "    ybar = mean(y)\n",
    "    b1 = (sum(x*y)-n*xbar*ybar)/(sum(x**2)-n*xbar**2)\n",
    "    b0 = ybar - b1 * xbar\n",
    "    return (b0,b1)\n",
    "# create function that calculate R squared\n",
    "def R_Squared (x,y):\n",
    "    #run the function of regression line \n",
    "    b0,b1 = reg_line(x,y)\n",
    "    #get y_hat series\n",
    "    yhat = b0 + b1*x\n",
    "    ybar = mean(y)\n",
    "    #calculate SSR   \n",
    "    SSR = sum((yhat - ybar)**2)\n",
    "    #calculate SST\n",
    "    SST = sum((y-ybar)**2)\n",
    "    #calculate R value\n",
    "    R_squared = SSR/SST\n",
    "    return R_squared\n",
    "#R_values= math.sqrt(R_Squared (x,y) ) \n",
    "    \n",
    "### Method 2\n",
    "np.corrcoef(x,y)\n",
    "\n",
    "\n",
    "\n",
    "# =============================================================================\n",
    "# ANOVA\n",
    "# =============================================================================\n",
    "\n",
    "import pandas as pd\n",
    "datafile = \"PlantGrowth.csv\"\n",
    "data = pd.read_csv('PlantGrowth.csv')\n",
    "\n",
    "#Create a boxplot\n",
    "#data.boxplot('weight', by='group', figsize=(12, 8))\n",
    "\n",
    "\n",
    "grps = pd.unique(data.group.values)\n",
    "d_data = {grp:data['weight'][data.group == grp] for grp in grps}\n",
    "\n",
    "k = len(pd.unique(data.group))  # number of conditions\n",
    "N = len(data.values)  # conditions times participants\n",
    "n = data.groupby('group').size()[0] #Participants in each condition\n",
    "\n",
    "from scipy import stats\n",
    "\n",
    "F, p = stats.f_oneway(d_data['ctrl'], d_data['trt1'], d_data['trt2'])\n",
    "\n",
    "\n",
    "# ==========================\n",
    "# DFbetween = k - 1\n",
    "# DFwithin = N - k\n",
    "# DFtotal = N - 1\n",
    "# SSbetween = (sum(data.groupby('group').sum()['weight']**2)/n) -(data['weight'].sum()**2)/N\n",
    "# sum_y_squared = sum([value**2 for value in data['weight'].values])\n",
    "# SSwithin = sum_y_squared - sum(data.groupby('group').sum()['weight']**2)/n\n",
    "# SStotal = sum_y_squared - (data['weight'].sum()**2)/N\n",
    "# MSbetween = SSbetween/DFbetween\n",
    "# MSwithin = SSwithin/DFwithin \n",
    "# F2 = MSbetween/MSwithin\n",
    "# p2 = stats.f.sf(F, DFbetween, DFwithin)\n",
    "# ==========================\n",
    "import statsmodels.api as sm\n",
    "from statsmodels.formula.api import ols\n",
    "# 重点！！！！ group的type一定要是“\n",
    "data.dtypes\n",
    "data.group = data.group.astype ('category') \n",
    "mod = ols('weight ~ group', data=data).fit()           \n",
    "aov_table = sm.stats.anova_lm(mod, typ=2)\n",
    "print (aov_table)\n",
    "# ==========================\n",
    "# >>> import random\n",
    "#>>> random.seed(0)\n",
    "#>>> data = [[random.randint(1, 20) for _ in range(size)] for size in range(1, 5)]\n",
    "#>>> for sample in data:\n",
    "#...     print(sample)\n",
    "#[13]\n",
    "#[14, 2]\n",
    "#[9, 17, 16]\n",
    "#[13, 10, 16, 12]\n",
    "#\n",
    "#We see that we have 4 samples of different size. Here let’s carry out the ANOVA:\n",
    "#\n",
    "#>>> from scipy import stats\n",
    "#>>> f_val, p_val = stats.f_oneway(*data)\n",
    "#>>> p_val\n",
    "#0.57172146848075944   \n",
    "# ==========================  \n",
    "\n",
    "   \n",
    "\n",
    "\n",
    "\n",
    "        \n",
    "# =============================================================================\n",
    "# visualization\n",
    "# =============================================================================\n",
    "\n",
    "# https://www.machinelearningplus.com/plots/top-50-matplotlib-visualizations-the-master-plots-python/#17.-Dot-Plot\n",
    "    \n",
    "    \n",
    "    \n",
    "#To reject the null hypothesis we check if the obtained F-value is \n",
    "#above the critical value for rejecting the null hypothesis. We could \n",
    "#look it up in a F-value table based on the DFwithin and DFbetween\n"
   ]
  },
  {
   "cell_type": "code",
   "execution_count": null,
   "metadata": {},
   "outputs": [],
   "source": []
  }
 ],
 "metadata": {
  "kernelspec": {
   "display_name": "Python 3",
   "language": "python",
   "name": "python3"
  },
  "language_info": {
   "codemirror_mode": {
    "name": "ipython",
    "version": 3
   },
   "file_extension": ".py",
   "mimetype": "text/x-python",
   "name": "python",
   "nbconvert_exporter": "python",
   "pygments_lexer": "ipython3",
   "version": "3.7.1"
  }
 },
 "nbformat": 4,
 "nbformat_minor": 2
}
