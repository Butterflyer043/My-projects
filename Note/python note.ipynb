{
 "cells": [
  {
   "cell_type": "markdown",
   "metadata": {},
   "source": [
    "# Pandas  \n",
    "## Create a dataframe"
   ]
  },
  {
   "cell_type": "code",
   "execution_count": 1,
   "metadata": {},
   "outputs": [],
   "source": [
    "import pandas as pd\n",
    "import numpy as np"
   ]
  },
  {
   "cell_type": "code",
   "execution_count": 2,
   "metadata": {},
   "outputs": [
    {
     "name": "stdout",
     "output_type": "stream",
     "text": [
      "        Student1  Student2  Student3\n",
      "Grade1      89.3      77.3      97.1\n",
      "Grade2      78.7      83.4      88.6\n",
      "Grade3      92.2      91.8      98.5\n"
     ]
    }
   ],
   "source": [
    "#1.手动输入\n",
    "gradebook={\n",
    "        \"Student1\": pd.Series([89.3, 78.7, 92.2], index=['Grade1', 'Grade2', 'Grade3']),\n",
    "        \"Student2\": pd.Series([77.3, 83.4, 91.8], index=['Grade1', 'Grade2', 'Grade3']),\n",
    "        \"Student3\": pd.Series([97.1, 88.6, 98.5], index=['Grade1', 'Grade2', 'Grade3'])\n",
    "        }\n",
    "gradeBookDF=pd.DataFrame(gradebook) \n",
    "print(gradeBookDF)"
   ]
  },
  {
   "cell_type": "code",
   "execution_count": 3,
   "metadata": {},
   "outputs": [
    {
     "name": "stdout",
     "output_type": "stream",
     "text": [
      "    Bob Sandy\n",
      "G1  NaN   NaN\n",
      "G2  NaN   NaN\n",
      "G3  NaN   NaN\n",
      "G4  NaN   NaN\n",
      "G5  NaN   NaN\n"
     ]
    }
   ],
   "source": [
    "#2.Create an empty dataframe 创建一个空df\n",
    "Gradebook2 = pd.DataFrame(index=['G1', 'G2', 'G3','G4','G5'], \n",
    "                          columns=['Bob', 'Sandy'])\n",
    "print(Gradebook2)"
   ]
  },
  {
   "cell_type": "code",
   "execution_count": 4,
   "metadata": {},
   "outputs": [
    {
     "data": {
      "text/html": [
       "<div>\n",
       "<style scoped>\n",
       "    .dataframe tbody tr th:only-of-type {\n",
       "        vertical-align: middle;\n",
       "    }\n",
       "\n",
       "    .dataframe tbody tr th {\n",
       "        vertical-align: top;\n",
       "    }\n",
       "\n",
       "    .dataframe thead th {\n",
       "        text-align: right;\n",
       "    }\n",
       "</style>\n",
       "<table border=\"1\" class=\"dataframe\">\n",
       "  <thead>\n",
       "    <tr style=\"text-align: right;\">\n",
       "      <th></th>\n",
       "      <th>title</th>\n",
       "      <th>aid</th>\n",
       "      <th>bvid</th>\n",
       "    </tr>\n",
       "  </thead>\n",
       "  <tbody>\n",
       "  </tbody>\n",
       "</table>\n",
       "</div>"
      ],
      "text/plain": [
       "Empty DataFrame\n",
       "Columns: [title, aid, bvid]\n",
       "Index: []"
      ]
     },
     "metadata": {},
     "output_type": "display_data"
    },
    {
     "data": {
      "text/html": [
       "<div>\n",
       "<style scoped>\n",
       "    .dataframe tbody tr th:only-of-type {\n",
       "        vertical-align: middle;\n",
       "    }\n",
       "\n",
       "    .dataframe tbody tr th {\n",
       "        vertical-align: top;\n",
       "    }\n",
       "\n",
       "    .dataframe thead th {\n",
       "        text-align: right;\n",
       "    }\n",
       "</style>\n",
       "<table border=\"1\" class=\"dataframe\">\n",
       "  <thead>\n",
       "    <tr style=\"text-align: right;\">\n",
       "      <th></th>\n",
       "      <th>title</th>\n",
       "      <th>aid</th>\n",
       "      <th>bvid</th>\n",
       "      <th>comment</th>\n",
       "    </tr>\n",
       "  </thead>\n",
       "  <tbody>\n",
       "    <tr>\n",
       "      <th>0</th>\n",
       "      <td>007</td>\n",
       "      <td>4821998</td>\n",
       "      <td>BV12s411i7yy</td>\n",
       "      <td>37.0</td>\n",
       "    </tr>\n",
       "  </tbody>\n",
       "</table>\n",
       "</div>"
      ],
      "text/plain": [
       "  title      aid          bvid  comment\n",
       "0   007  4821998  BV12s411i7yy     37.0"
      ]
     },
     "metadata": {},
     "output_type": "display_data"
    }
   ],
   "source": [
    "# 创建一个空df, 逐渐增加row\n",
    "df_temp = pd.DataFrame(columns=['title', 'aid', 'bvid'])\n",
    "display(df_temp)\n",
    "dict_new = {'title':'007', 'aid':'4821998', 'bvid':\"BV12s411i7yy\",'comment':37}\n",
    "df_temp = df_temp.append(dict_new, ignore_index=True)\n",
    "display(df_temp)"
   ]
  },
  {
   "cell_type": "code",
   "execution_count": 5,
   "metadata": {},
   "outputs": [],
   "source": [
    "#3. import data\n",
    "from sklearn.datasets import load_boston \n",
    "dataset = load_boston() \n",
    "df = pd.DataFrame(dataset.data, columns=dataset.feature_names)\n",
    "df['target'] = dataset.target"
   ]
  },
  {
   "cell_type": "code",
   "execution_count": 6,
   "metadata": {},
   "outputs": [],
   "source": [
    "#4. import data 2 csv\n",
    "#df = pd.read_csv('dataset.csv')"
   ]
  },
  {
   "cell_type": "markdown",
   "metadata": {},
   "source": [
    "### 合并俩个df\n",
    "[merge doc](https://pandas.pydata.org/pandas-docs/stable/user_guide/merging.html)  \n",
    "\n",
    "result = pd.**concat**([df1, df2, df3], **axis**=0, **join**='outer', **ignore_index**=False, **keys**=None,\n",
    "          levels=None, names=None, verify_integrity=False, copy=True)  \n",
    "* **axis**=1 , 0  \n",
    "    - 1--增加col; 0--增加row   \n",
    "* **join**='outer', 'inner'  \n",
    "    - 'outer'--union并集，缺值为NaN; 'inner'--intersection交集  \n",
    "* **keys**=['a','b','c'] -- result.loc['a'] return df1  \n",
    "\n",
    "\n",
    "result = pd.**merge**(left, right, **how**='inner', **on**=None, **left_on**=None, right_on=None,\n",
    "         left_index=False, right_index=False, sort=True,\n",
    "         suffixes=('_x', '_y'), copy=True, **indicator**=False,\n",
    "         validate=None)   \n",
    "* **how**='left','right','outer','inner'    \n",
    "    - left-- Use keys from left frame only; outer-- Use union of keys from both frames; inner--Use intersection of keys from both frames    \n",
    "* **on**=['col1','col2']    \n",
    "* **indicator** 增加一个merge col：[left_only,both,right_only]\n",
    "* **left_index**: join by key = left df's index\n",
    "* **left_on**: join by key from left df\n",
    "\n",
    "**left.join(right,how='inner'))**"
   ]
  },
  {
   "cell_type": "code",
   "execution_count": 7,
   "metadata": {},
   "outputs": [],
   "source": [
    "#5. combine two df 合并俩个df\n",
    "#df_full = pd.concat([df_video, df_info], axis=1, sort=False)\n",
    "#df_full = df_full.loc[:,~df_full.columns.duplicated()]\n",
    "\n",
    "#combine two df by one cols 合并俩个df\n",
    "#pd.merge(df_row, df3, on='id')"
   ]
  },
  {
   "cell_type": "markdown",
   "metadata": {},
   "source": [
    "## Read df\n",
    "### Sort\n",
    "Sort [doc](https://pandas.pydata.org/pandas-docs/stable/reference/api/pandas.DataFrame.sort_values.html)\n",
    "sort_values(by=[],ascending=False 逆序, na_position='first'空值放前)"
   ]
  },
  {
   "cell_type": "code",
   "execution_count": 8,
   "metadata": {},
   "outputs": [
    {
     "data": {
      "text/plain": [
       "505    0.0\n",
       "439    0.0\n",
       "440    0.0\n",
       "441    0.0\n",
       "442    0.0\n",
       "Name: ZN, dtype: float64"
      ]
     },
     "execution_count": 8,
     "metadata": {},
     "output_type": "execute_result"
    }
   ],
   "source": [
    "# sort value \n",
    "df['ZN'].sort_values().head(5)"
   ]
  },
  {
   "cell_type": "code",
   "execution_count": 9,
   "metadata": {},
   "outputs": [
    {
     "data": {
      "text/html": [
       "<div>\n",
       "<style scoped>\n",
       "    .dataframe tbody tr th:only-of-type {\n",
       "        vertical-align: middle;\n",
       "    }\n",
       "\n",
       "    .dataframe tbody tr th {\n",
       "        vertical-align: top;\n",
       "    }\n",
       "\n",
       "    .dataframe thead th {\n",
       "        text-align: right;\n",
       "    }\n",
       "</style>\n",
       "<table border=\"1\" class=\"dataframe\">\n",
       "  <thead>\n",
       "    <tr style=\"text-align: right;\">\n",
       "      <th></th>\n",
       "      <th>AGE</th>\n",
       "      <th>B</th>\n",
       "      <th>CHAS</th>\n",
       "      <th>CRIM</th>\n",
       "      <th>DIS</th>\n",
       "      <th>INDUS</th>\n",
       "      <th>LSTAT</th>\n",
       "      <th>NOX</th>\n",
       "      <th>PTRATIO</th>\n",
       "      <th>RAD</th>\n",
       "      <th>RM</th>\n",
       "      <th>TAX</th>\n",
       "      <th>ZN</th>\n",
       "      <th>target</th>\n",
       "    </tr>\n",
       "  </thead>\n",
       "  <tbody>\n",
       "    <tr>\n",
       "      <th>0</th>\n",
       "      <td>65.2</td>\n",
       "      <td>396.9</td>\n",
       "      <td>0.0</td>\n",
       "      <td>0.00632</td>\n",
       "      <td>4.0900</td>\n",
       "      <td>2.31</td>\n",
       "      <td>4.98</td>\n",
       "      <td>0.538</td>\n",
       "      <td>15.3</td>\n",
       "      <td>1.0</td>\n",
       "      <td>6.575</td>\n",
       "      <td>296.0</td>\n",
       "      <td>18.0</td>\n",
       "      <td>24.0</td>\n",
       "    </tr>\n",
       "    <tr>\n",
       "      <th>1</th>\n",
       "      <td>78.9</td>\n",
       "      <td>396.9</td>\n",
       "      <td>0.0</td>\n",
       "      <td>0.02731</td>\n",
       "      <td>4.9671</td>\n",
       "      <td>7.07</td>\n",
       "      <td>9.14</td>\n",
       "      <td>0.469</td>\n",
       "      <td>17.8</td>\n",
       "      <td>2.0</td>\n",
       "      <td>6.421</td>\n",
       "      <td>242.0</td>\n",
       "      <td>0.0</td>\n",
       "      <td>21.6</td>\n",
       "    </tr>\n",
       "  </tbody>\n",
       "</table>\n",
       "</div>"
      ],
      "text/plain": [
       "    AGE      B  CHAS     CRIM     DIS  INDUS  LSTAT    NOX  PTRATIO  RAD  \\\n",
       "0  65.2  396.9   0.0  0.00632  4.0900   2.31   4.98  0.538     15.3  1.0   \n",
       "1  78.9  396.9   0.0  0.02731  4.9671   7.07   9.14  0.469     17.8  2.0   \n",
       "\n",
       "      RM    TAX    ZN  target  \n",
       "0  6.575  296.0  18.0    24.0  \n",
       "1  6.421  242.0   0.0    21.6  "
      ]
     },
     "execution_count": 9,
     "metadata": {},
     "output_type": "execute_result"
    }
   ],
   "source": [
    "# sort by col name\n",
    "df.reindex(sorted(df.columns), axis=1).head(2)"
   ]
  },
  {
   "cell_type": "code",
   "execution_count": 10,
   "metadata": {},
   "outputs": [
    {
     "data": {
      "text/html": [
       "<div>\n",
       "<style scoped>\n",
       "    .dataframe tbody tr th:only-of-type {\n",
       "        vertical-align: middle;\n",
       "    }\n",
       "\n",
       "    .dataframe tbody tr th {\n",
       "        vertical-align: top;\n",
       "    }\n",
       "\n",
       "    .dataframe thead th {\n",
       "        text-align: right;\n",
       "    }\n",
       "</style>\n",
       "<table border=\"1\" class=\"dataframe\">\n",
       "  <thead>\n",
       "    <tr style=\"text-align: right;\">\n",
       "      <th></th>\n",
       "      <th>NOX</th>\n",
       "      <th>target</th>\n",
       "      <th>ZN</th>\n",
       "      <th>CRIM</th>\n",
       "      <th>RAD</th>\n",
       "    </tr>\n",
       "  </thead>\n",
       "  <tbody>\n",
       "    <tr>\n",
       "      <th>0</th>\n",
       "      <td>0.538</td>\n",
       "      <td>24.0</td>\n",
       "      <td>18.0</td>\n",
       "      <td>0.00632</td>\n",
       "      <td>1.0</td>\n",
       "    </tr>\n",
       "    <tr>\n",
       "      <th>1</th>\n",
       "      <td>0.469</td>\n",
       "      <td>21.6</td>\n",
       "      <td>0.0</td>\n",
       "      <td>0.02731</td>\n",
       "      <td>2.0</td>\n",
       "    </tr>\n",
       "  </tbody>\n",
       "</table>\n",
       "</div>"
      ],
      "text/plain": [
       "     NOX  target    ZN     CRIM  RAD\n",
       "0  0.538    24.0  18.0  0.00632  1.0\n",
       "1  0.469    21.6   0.0  0.02731  2.0"
      ]
     },
     "execution_count": 10,
     "metadata": {},
     "output_type": "execute_result"
    }
   ],
   "source": [
    "# sort by specified col name\n",
    "df[['NOX','target','ZN','CRIM','RAD']].head(2)"
   ]
  },
  {
   "cell_type": "code",
   "execution_count": 11,
   "metadata": {},
   "outputs": [
    {
     "data": {
      "text/html": [
       "<div>\n",
       "<style scoped>\n",
       "    .dataframe tbody tr th:only-of-type {\n",
       "        vertical-align: middle;\n",
       "    }\n",
       "\n",
       "    .dataframe tbody tr th {\n",
       "        vertical-align: top;\n",
       "    }\n",
       "\n",
       "    .dataframe thead th {\n",
       "        text-align: right;\n",
       "    }\n",
       "</style>\n",
       "<table border=\"1\" class=\"dataframe\">\n",
       "  <thead>\n",
       "    <tr style=\"text-align: right;\">\n",
       "      <th></th>\n",
       "      <th>CRIM</th>\n",
       "      <th>ZN</th>\n",
       "      <th>INDUS</th>\n",
       "      <th>CHAS</th>\n",
       "      <th>NOX</th>\n",
       "      <th>RM</th>\n",
       "      <th>AGE</th>\n",
       "      <th>DIS</th>\n",
       "      <th>RAD</th>\n",
       "      <th>TAX</th>\n",
       "      <th>PTRATIO</th>\n",
       "      <th>B</th>\n",
       "      <th>LSTAT</th>\n",
       "      <th>target</th>\n",
       "    </tr>\n",
       "  </thead>\n",
       "  <tbody>\n",
       "    <tr>\n",
       "      <th>0</th>\n",
       "      <td>0.00632</td>\n",
       "      <td>18.0</td>\n",
       "      <td>2.31</td>\n",
       "      <td>0.0</td>\n",
       "      <td>0.538</td>\n",
       "      <td>6.575</td>\n",
       "      <td>65.2</td>\n",
       "      <td>4.0900</td>\n",
       "      <td>1.0</td>\n",
       "      <td>296.0</td>\n",
       "      <td>15.3</td>\n",
       "      <td>396.90</td>\n",
       "      <td>4.98</td>\n",
       "      <td>24.0</td>\n",
       "    </tr>\n",
       "    <tr>\n",
       "      <th>284</th>\n",
       "      <td>0.00906</td>\n",
       "      <td>90.0</td>\n",
       "      <td>2.97</td>\n",
       "      <td>0.0</td>\n",
       "      <td>0.400</td>\n",
       "      <td>7.088</td>\n",
       "      <td>20.8</td>\n",
       "      <td>7.3073</td>\n",
       "      <td>1.0</td>\n",
       "      <td>285.0</td>\n",
       "      <td>15.3</td>\n",
       "      <td>394.72</td>\n",
       "      <td>7.85</td>\n",
       "      <td>32.2</td>\n",
       "    </tr>\n",
       "    <tr>\n",
       "      <th>285</th>\n",
       "      <td>0.01096</td>\n",
       "      <td>55.0</td>\n",
       "      <td>2.25</td>\n",
       "      <td>0.0</td>\n",
       "      <td>0.389</td>\n",
       "      <td>6.453</td>\n",
       "      <td>31.9</td>\n",
       "      <td>7.3073</td>\n",
       "      <td>1.0</td>\n",
       "      <td>300.0</td>\n",
       "      <td>15.3</td>\n",
       "      <td>394.72</td>\n",
       "      <td>8.23</td>\n",
       "      <td>22.0</td>\n",
       "    </tr>\n",
       "  </tbody>\n",
       "</table>\n",
       "</div>"
      ],
      "text/plain": [
       "        CRIM    ZN  INDUS  CHAS    NOX     RM   AGE     DIS  RAD    TAX  \\\n",
       "0    0.00632  18.0   2.31   0.0  0.538  6.575  65.2  4.0900  1.0  296.0   \n",
       "284  0.00906  90.0   2.97   0.0  0.400  7.088  20.8  7.3073  1.0  285.0   \n",
       "285  0.01096  55.0   2.25   0.0  0.389  6.453  31.9  7.3073  1.0  300.0   \n",
       "\n",
       "     PTRATIO       B  LSTAT  target  \n",
       "0       15.3  396.90   4.98    24.0  \n",
       "284     15.3  394.72   7.85    32.2  \n",
       "285     15.3  394.72   8.23    22.0  "
      ]
     },
     "execution_count": 11,
     "metadata": {},
     "output_type": "execute_result"
    }
   ],
   "source": [
    "# sort by multi cols\n",
    "df.sort_values(by=['CRIM','ZN']).head(3) \n",
    "#df.reset_index(drop=True) reindex"
   ]
  },
  {
   "cell_type": "markdown",
   "metadata": {},
   "source": [
    "### Basic Info"
   ]
  },
  {
   "cell_type": "code",
   "execution_count": 12,
   "metadata": {},
   "outputs": [
    {
     "data": {
      "text/plain": [
       "Index(['CRIM', 'ZN', 'INDUS', 'CHAS', 'NOX', 'RM', 'AGE', 'DIS', 'RAD', 'TAX',\n",
       "       'PTRATIO', 'B', 'LSTAT', 'target'],\n",
       "      dtype='object')"
      ]
     },
     "execution_count": 12,
     "metadata": {},
     "output_type": "execute_result"
    }
   ],
   "source": [
    "list(df.columns.values)\n",
    "#or\n",
    "df.columns"
   ]
  },
  {
   "cell_type": "code",
   "execution_count": 13,
   "metadata": {},
   "outputs": [
    {
     "data": {
      "text/plain": [
       "(506, 14)"
      ]
     },
     "execution_count": 13,
     "metadata": {},
     "output_type": "execute_result"
    }
   ],
   "source": [
    "df.shape #(row, column)"
   ]
  },
  {
   "cell_type": "code",
   "execution_count": 14,
   "metadata": {},
   "outputs": [
    {
     "data": {
      "text/plain": [
       "RangeIndex(start=0, stop=506, step=1)"
      ]
     },
     "execution_count": 14,
     "metadata": {},
     "output_type": "execute_result"
    }
   ],
   "source": [
    "df.index"
   ]
  },
  {
   "cell_type": "code",
   "execution_count": 15,
   "metadata": {},
   "outputs": [
    {
     "data": {
      "text/plain": [
       "array([296., 242., 222., 311., 307., 279., 252., 233., 243., 469., 226.,\n",
       "       313., 256., 284., 216., 337., 345., 305., 398., 281., 247., 270.,\n",
       "       276., 384., 432., 188., 437., 403., 193., 265., 255., 329., 402.,\n",
       "       348., 224., 277., 300., 330., 315., 244., 264., 223., 254., 198.,\n",
       "       285., 241., 293., 245., 289., 358., 304., 287., 430., 422., 370.,\n",
       "       352., 351., 280., 335., 411., 187., 334., 666., 711., 391., 273.])"
      ]
     },
     "execution_count": 15,
     "metadata": {},
     "output_type": "execute_result"
    }
   ],
   "source": [
    "df.TAX.unique()"
   ]
  },
  {
   "cell_type": "code",
   "execution_count": 16,
   "metadata": {},
   "outputs": [
    {
     "data": {
      "text/plain": [
       "CRIM       float64\n",
       "ZN         float64\n",
       "INDUS      float64\n",
       "CHAS       float64\n",
       "NOX        float64\n",
       "RM         float64\n",
       "AGE        float64\n",
       "DIS        float64\n",
       "RAD        float64\n",
       "TAX        float64\n",
       "PTRATIO    float64\n",
       "B          float64\n",
       "LSTAT      float64\n",
       "target     float64\n",
       "dtype: object"
      ]
     },
     "execution_count": 16,
     "metadata": {},
     "output_type": "execute_result"
    }
   ],
   "source": [
    "df.dtypes"
   ]
  },
  {
   "cell_type": "markdown",
   "metadata": {},
   "source": [
    "### select cell"
   ]
  },
  {
   "cell_type": "code",
   "execution_count": 17,
   "metadata": {},
   "outputs": [
    {
     "data": {
      "text/html": [
       "<div>\n",
       "<style scoped>\n",
       "    .dataframe tbody tr th:only-of-type {\n",
       "        vertical-align: middle;\n",
       "    }\n",
       "\n",
       "    .dataframe tbody tr th {\n",
       "        vertical-align: top;\n",
       "    }\n",
       "\n",
       "    .dataframe thead th {\n",
       "        text-align: right;\n",
       "    }\n",
       "</style>\n",
       "<table border=\"1\" class=\"dataframe\">\n",
       "  <thead>\n",
       "    <tr style=\"text-align: right;\">\n",
       "      <th></th>\n",
       "      <th>Student1</th>\n",
       "      <th>Student2</th>\n",
       "      <th>Student3</th>\n",
       "    </tr>\n",
       "  </thead>\n",
       "  <tbody>\n",
       "    <tr>\n",
       "      <th>Grade1</th>\n",
       "      <td>89.3</td>\n",
       "      <td>77.3</td>\n",
       "      <td>97.1</td>\n",
       "    </tr>\n",
       "    <tr>\n",
       "      <th>Grade2</th>\n",
       "      <td>78.7</td>\n",
       "      <td>83.4</td>\n",
       "      <td>88.6</td>\n",
       "    </tr>\n",
       "    <tr>\n",
       "      <th>Grade3</th>\n",
       "      <td>92.2</td>\n",
       "      <td>91.8</td>\n",
       "      <td>98.5</td>\n",
       "    </tr>\n",
       "  </tbody>\n",
       "</table>\n",
       "</div>"
      ],
      "text/plain": [
       "        Student1  Student2  Student3\n",
       "Grade1      89.3      77.3      97.1\n",
       "Grade2      78.7      83.4      88.6\n",
       "Grade3      92.2      91.8      98.5"
      ]
     },
     "execution_count": 17,
     "metadata": {},
     "output_type": "execute_result"
    }
   ],
   "source": [
    "gradeBookDF"
   ]
  },
  {
   "cell_type": "code",
   "execution_count": 18,
   "metadata": {},
   "outputs": [
    {
     "data": {
      "text/plain": [
       "88.6"
      ]
     },
     "execution_count": 18,
     "metadata": {},
     "output_type": "execute_result"
    }
   ],
   "source": [
    "gradeBookDF.iloc[1,2] # grade2 + student3  # row，column"
   ]
  },
  {
   "cell_type": "code",
   "execution_count": 19,
   "metadata": {},
   "outputs": [
    {
     "data": {
      "text/html": [
       "<div>\n",
       "<style scoped>\n",
       "    .dataframe tbody tr th:only-of-type {\n",
       "        vertical-align: middle;\n",
       "    }\n",
       "\n",
       "    .dataframe tbody tr th {\n",
       "        vertical-align: top;\n",
       "    }\n",
       "\n",
       "    .dataframe thead th {\n",
       "        text-align: right;\n",
       "    }\n",
       "</style>\n",
       "<table border=\"1\" class=\"dataframe\">\n",
       "  <thead>\n",
       "    <tr style=\"text-align: right;\">\n",
       "      <th></th>\n",
       "      <th>Bob</th>\n",
       "      <th>Sandy</th>\n",
       "    </tr>\n",
       "  </thead>\n",
       "  <tbody>\n",
       "    <tr>\n",
       "      <th>G1</th>\n",
       "      <td>NaN</td>\n",
       "      <td>NaN</td>\n",
       "    </tr>\n",
       "    <tr>\n",
       "      <th>G2</th>\n",
       "      <td>NaN</td>\n",
       "      <td>NaN</td>\n",
       "    </tr>\n",
       "    <tr>\n",
       "      <th>G3</th>\n",
       "      <td>NaN</td>\n",
       "      <td>NaN</td>\n",
       "    </tr>\n",
       "    <tr>\n",
       "      <th>G4</th>\n",
       "      <td>NaN</td>\n",
       "      <td>NaN</td>\n",
       "    </tr>\n",
       "    <tr>\n",
       "      <th>G5</th>\n",
       "      <td>NaN</td>\n",
       "      <td>NaN</td>\n",
       "    </tr>\n",
       "  </tbody>\n",
       "</table>\n",
       "</div>"
      ],
      "text/plain": [
       "    Bob Sandy\n",
       "G1  NaN   NaN\n",
       "G2  NaN   NaN\n",
       "G3  NaN   NaN\n",
       "G4  NaN   NaN\n",
       "G5  NaN   NaN"
      ]
     },
     "execution_count": 19,
     "metadata": {},
     "output_type": "execute_result"
    }
   ],
   "source": [
    "Gradebook2"
   ]
  },
  {
   "cell_type": "code",
   "execution_count": 20,
   "metadata": {},
   "outputs": [
    {
     "data": {
      "text/html": [
       "<div>\n",
       "<style scoped>\n",
       "    .dataframe tbody tr th:only-of-type {\n",
       "        vertical-align: middle;\n",
       "    }\n",
       "\n",
       "    .dataframe tbody tr th {\n",
       "        vertical-align: top;\n",
       "    }\n",
       "\n",
       "    .dataframe thead th {\n",
       "        text-align: right;\n",
       "    }\n",
       "</style>\n",
       "<table border=\"1\" class=\"dataframe\">\n",
       "  <thead>\n",
       "    <tr style=\"text-align: right;\">\n",
       "      <th></th>\n",
       "      <th>Bob</th>\n",
       "      <th>Sandy</th>\n",
       "    </tr>\n",
       "  </thead>\n",
       "  <tbody>\n",
       "    <tr>\n",
       "      <th>G1</th>\n",
       "      <td>NaN</td>\n",
       "      <td>98.1</td>\n",
       "    </tr>\n",
       "    <tr>\n",
       "      <th>G2</th>\n",
       "      <td>NaN</td>\n",
       "      <td>88.1</td>\n",
       "    </tr>\n",
       "    <tr>\n",
       "      <th>G3</th>\n",
       "      <td>NaN</td>\n",
       "      <td>88.1</td>\n",
       "    </tr>\n",
       "    <tr>\n",
       "      <th>G4</th>\n",
       "      <td>NaN</td>\n",
       "      <td>NaN</td>\n",
       "    </tr>\n",
       "    <tr>\n",
       "      <th>G5</th>\n",
       "      <td>NaN</td>\n",
       "      <td>NaN</td>\n",
       "    </tr>\n",
       "  </tbody>\n",
       "</table>\n",
       "</div>"
      ],
      "text/plain": [
       "    Bob Sandy\n",
       "G1  NaN  98.1\n",
       "G2  NaN  88.1\n",
       "G3  NaN  88.1\n",
       "G4  NaN   NaN\n",
       "G5  NaN   NaN"
      ]
     },
     "execution_count": 20,
     "metadata": {},
     "output_type": "execute_result"
    }
   ],
   "source": [
    "Gradebook2.loc[\"G1\",\"Sandy\"]=98.1 \n",
    "Gradebook2.loc[[\"G2\",\"G3\"],\"Sandy\"]=88.1 # row，column\n",
    "Gradebook2"
   ]
  },
  {
   "cell_type": "code",
   "execution_count": 21,
   "metadata": {},
   "outputs": [
    {
     "data": {
      "text/html": [
       "<div>\n",
       "<style scoped>\n",
       "    .dataframe tbody tr th:only-of-type {\n",
       "        vertical-align: middle;\n",
       "    }\n",
       "\n",
       "    .dataframe tbody tr th {\n",
       "        vertical-align: top;\n",
       "    }\n",
       "\n",
       "    .dataframe thead th {\n",
       "        text-align: right;\n",
       "    }\n",
       "</style>\n",
       "<table border=\"1\" class=\"dataframe\">\n",
       "  <thead>\n",
       "    <tr style=\"text-align: right;\">\n",
       "      <th></th>\n",
       "      <th>Bob</th>\n",
       "      <th>Sandy</th>\n",
       "    </tr>\n",
       "  </thead>\n",
       "  <tbody>\n",
       "    <tr>\n",
       "      <th>G1</th>\n",
       "      <td>89</td>\n",
       "      <td>98.1</td>\n",
       "    </tr>\n",
       "    <tr>\n",
       "      <th>G2</th>\n",
       "      <td>99</td>\n",
       "      <td>88.1</td>\n",
       "    </tr>\n",
       "    <tr>\n",
       "      <th>G3</th>\n",
       "      <td>55</td>\n",
       "      <td>88.1</td>\n",
       "    </tr>\n",
       "    <tr>\n",
       "      <th>G4</th>\n",
       "      <td>62</td>\n",
       "      <td>NaN</td>\n",
       "    </tr>\n",
       "    <tr>\n",
       "      <th>G5</th>\n",
       "      <td>56</td>\n",
       "      <td>NaN</td>\n",
       "    </tr>\n",
       "  </tbody>\n",
       "</table>\n",
       "</div>"
      ],
      "text/plain": [
       "   Bob Sandy\n",
       "G1  89  98.1\n",
       "G2  99  88.1\n",
       "G3  55  88.1\n",
       "G4  62   NaN\n",
       "G5  56   NaN"
      ]
     },
     "execution_count": 21,
     "metadata": {},
     "output_type": "execute_result"
    }
   ],
   "source": [
    "import random #import 数据\n",
    "for i in Gradebook2.index:\n",
    "    Gradebook2.loc[i,\"Bob\"]=random.randint(50,100)\n",
    "    #print(Gradebook2)\n",
    "Gradebook2"
   ]
  },
  {
   "cell_type": "markdown",
   "metadata": {},
   "source": [
    "### manipulate column\n",
    "##### select a column "
   ]
  },
  {
   "cell_type": "code",
   "execution_count": 22,
   "metadata": {},
   "outputs": [
    {
     "data": {
      "text/plain": [
       "G1    89\n",
       "G2    99\n",
       "G3    55\n",
       "G4    62\n",
       "G5    56\n",
       "Name: Bob, dtype: object"
      ]
     },
     "execution_count": 22,
     "metadata": {},
     "output_type": "execute_result"
    }
   ],
   "source": [
    "Gradebook2.iloc[:,0] # or\n",
    "Gradebook2['Bob'] # or\n",
    "Gradebook2.Bob # .values ==> return a array\n"
   ]
  },
  {
   "cell_type": "markdown",
   "metadata": {},
   "source": [
    "##### insert column"
   ]
  },
  {
   "cell_type": "code",
   "execution_count": 23,
   "metadata": {},
   "outputs": [
    {
     "data": {
      "text/html": [
       "<div>\n",
       "<style scoped>\n",
       "    .dataframe tbody tr th:only-of-type {\n",
       "        vertical-align: middle;\n",
       "    }\n",
       "\n",
       "    .dataframe tbody tr th {\n",
       "        vertical-align: top;\n",
       "    }\n",
       "\n",
       "    .dataframe thead th {\n",
       "        text-align: right;\n",
       "    }\n",
       "</style>\n",
       "<table border=\"1\" class=\"dataframe\">\n",
       "  <thead>\n",
       "    <tr style=\"text-align: right;\">\n",
       "      <th></th>\n",
       "      <th>Bob</th>\n",
       "      <th>Sandy</th>\n",
       "      <th>NewColumn</th>\n",
       "      <th>0</th>\n",
       "    </tr>\n",
       "  </thead>\n",
       "  <tbody>\n",
       "    <tr>\n",
       "      <th>G1</th>\n",
       "      <td>89</td>\n",
       "      <td>98.1</td>\n",
       "      <td>0</td>\n",
       "      <td>98.2</td>\n",
       "    </tr>\n",
       "    <tr>\n",
       "      <th>G2</th>\n",
       "      <td>99</td>\n",
       "      <td>88.1</td>\n",
       "      <td>0</td>\n",
       "      <td>98.2</td>\n",
       "    </tr>\n",
       "    <tr>\n",
       "      <th>G3</th>\n",
       "      <td>55</td>\n",
       "      <td>88.1</td>\n",
       "      <td>0</td>\n",
       "      <td>98.2</td>\n",
       "    </tr>\n",
       "    <tr>\n",
       "      <th>G4</th>\n",
       "      <td>62</td>\n",
       "      <td>NaN</td>\n",
       "      <td>0</td>\n",
       "      <td>98.2</td>\n",
       "    </tr>\n",
       "    <tr>\n",
       "      <th>G5</th>\n",
       "      <td>56</td>\n",
       "      <td>NaN</td>\n",
       "      <td>0</td>\n",
       "      <td>98.2</td>\n",
       "    </tr>\n",
       "  </tbody>\n",
       "</table>\n",
       "</div>"
      ],
      "text/plain": [
       "   Bob Sandy  NewColumn     0\n",
       "G1  89  98.1          0  98.2\n",
       "G2  99  88.1          0  98.2\n",
       "G3  55  88.1          0  98.2\n",
       "G4  62   NaN          0  98.2\n",
       "G5  56   NaN          0  98.2"
      ]
     },
     "execution_count": 23,
     "metadata": {},
     "output_type": "execute_result"
    }
   ],
   "source": [
    "#Create column\n",
    "Gradebook2[\"NewColumn\"]=0\n",
    "Gradebook2.loc[:,0]=98.2\n",
    "Gradebook2"
   ]
  },
  {
   "cell_type": "code",
   "execution_count": 27,
   "metadata": {},
   "outputs": [
    {
     "data": {
      "text/html": [
       "<div>\n",
       "<style scoped>\n",
       "    .dataframe tbody tr th:only-of-type {\n",
       "        vertical-align: middle;\n",
       "    }\n",
       "\n",
       "    .dataframe tbody tr th {\n",
       "        vertical-align: top;\n",
       "    }\n",
       "\n",
       "    .dataframe thead th {\n",
       "        text-align: right;\n",
       "    }\n",
       "</style>\n",
       "<table border=\"1\" class=\"dataframe\">\n",
       "  <thead>\n",
       "    <tr style=\"text-align: right;\">\n",
       "      <th></th>\n",
       "      <th>Bob</th>\n",
       "      <th>NewColumn2</th>\n",
       "      <th>Sandy</th>\n",
       "      <th>NewColumn</th>\n",
       "      <th>0</th>\n",
       "    </tr>\n",
       "  </thead>\n",
       "  <tbody>\n",
       "    <tr>\n",
       "      <th>G1</th>\n",
       "      <td>89</td>\n",
       "      <td>NaN</td>\n",
       "      <td>98.1</td>\n",
       "      <td>0</td>\n",
       "      <td>98.2</td>\n",
       "    </tr>\n",
       "    <tr>\n",
       "      <th>G2</th>\n",
       "      <td>99</td>\n",
       "      <td>NaN</td>\n",
       "      <td>88.1</td>\n",
       "      <td>0</td>\n",
       "      <td>98.2</td>\n",
       "    </tr>\n",
       "    <tr>\n",
       "      <th>G3</th>\n",
       "      <td>55</td>\n",
       "      <td>NaN</td>\n",
       "      <td>88.1</td>\n",
       "      <td>0</td>\n",
       "      <td>98.2</td>\n",
       "    </tr>\n",
       "    <tr>\n",
       "      <th>G4</th>\n",
       "      <td>62</td>\n",
       "      <td>NaN</td>\n",
       "      <td>NaN</td>\n",
       "      <td>0</td>\n",
       "      <td>98.2</td>\n",
       "    </tr>\n",
       "    <tr>\n",
       "      <th>G5</th>\n",
       "      <td>56</td>\n",
       "      <td>NaN</td>\n",
       "      <td>NaN</td>\n",
       "      <td>0</td>\n",
       "      <td>98.2</td>\n",
       "    </tr>\n",
       "  </tbody>\n",
       "</table>\n",
       "</div>"
      ],
      "text/plain": [
       "   Bob  NewColumn2 Sandy  NewColumn     0\n",
       "G1  89         NaN  98.1          0  98.2\n",
       "G2  99         NaN  88.1          0  98.2\n",
       "G3  55         NaN  88.1          0  98.2\n",
       "G4  62         NaN   NaN          0  98.2\n",
       "G5  56         NaN   NaN          0  98.2"
      ]
     },
     "execution_count": 27,
     "metadata": {},
     "output_type": "execute_result"
    }
   ],
   "source": [
    "# insert column with index \n",
    "Gradebook2.insert(1, 'NewColumn2',np.nan)  # 1 - index \n",
    "Gradebook2"
   ]
  },
  {
   "cell_type": "markdown",
   "metadata": {},
   "source": [
    "##### remove column"
   ]
  },
  {
   "cell_type": "code",
   "execution_count": 28,
   "metadata": {},
   "outputs": [
    {
     "data": {
      "text/html": [
       "<div>\n",
       "<style scoped>\n",
       "    .dataframe tbody tr th:only-of-type {\n",
       "        vertical-align: middle;\n",
       "    }\n",
       "\n",
       "    .dataframe tbody tr th {\n",
       "        vertical-align: top;\n",
       "    }\n",
       "\n",
       "    .dataframe thead th {\n",
       "        text-align: right;\n",
       "    }\n",
       "</style>\n",
       "<table border=\"1\" class=\"dataframe\">\n",
       "  <thead>\n",
       "    <tr style=\"text-align: right;\">\n",
       "      <th></th>\n",
       "      <th>Bob</th>\n",
       "      <th>Sandy</th>\n",
       "      <th>NewColumn</th>\n",
       "      <th>0</th>\n",
       "    </tr>\n",
       "  </thead>\n",
       "  <tbody>\n",
       "    <tr>\n",
       "      <th>G1</th>\n",
       "      <td>89</td>\n",
       "      <td>98.1</td>\n",
       "      <td>0</td>\n",
       "      <td>98.2</td>\n",
       "    </tr>\n",
       "    <tr>\n",
       "      <th>G2</th>\n",
       "      <td>99</td>\n",
       "      <td>88.1</td>\n",
       "      <td>0</td>\n",
       "      <td>98.2</td>\n",
       "    </tr>\n",
       "    <tr>\n",
       "      <th>G3</th>\n",
       "      <td>55</td>\n",
       "      <td>88.1</td>\n",
       "      <td>0</td>\n",
       "      <td>98.2</td>\n",
       "    </tr>\n",
       "    <tr>\n",
       "      <th>G4</th>\n",
       "      <td>62</td>\n",
       "      <td>NaN</td>\n",
       "      <td>0</td>\n",
       "      <td>98.2</td>\n",
       "    </tr>\n",
       "    <tr>\n",
       "      <th>G5</th>\n",
       "      <td>56</td>\n",
       "      <td>NaN</td>\n",
       "      <td>0</td>\n",
       "      <td>98.2</td>\n",
       "    </tr>\n",
       "  </tbody>\n",
       "</table>\n",
       "</div>"
      ],
      "text/plain": [
       "   Bob Sandy  NewColumn     0\n",
       "G1  89  98.1          0  98.2\n",
       "G2  99  88.1          0  98.2\n",
       "G3  55  88.1          0  98.2\n",
       "G4  62   NaN          0  98.2\n",
       "G5  56   NaN          0  98.2"
      ]
     },
     "execution_count": 28,
     "metadata": {},
     "output_type": "execute_result"
    }
   ],
   "source": [
    "# remove with col name \n",
    "Gradebook2=Gradebook2.drop(\"NewColumn2\", axis=1) #axis = 0 为 row  ==> DictDF=DictDF.drop(0)  remove first row\n",
    "# remove with index \n",
    "#Gradebook2 = Gradebook2.drop(str(Gradebook2.columns[1]),axis=1) \n",
    "Gradebook2 "
   ]
  },
  {
   "cell_type": "markdown",
   "metadata": {},
   "source": [
    "### manipulate row\n",
    "##### select a row "
   ]
  },
  {
   "cell_type": "code",
   "execution_count": 29,
   "metadata": {},
   "outputs": [
    {
     "data": {
      "text/html": [
       "<div>\n",
       "<style scoped>\n",
       "    .dataframe tbody tr th:only-of-type {\n",
       "        vertical-align: middle;\n",
       "    }\n",
       "\n",
       "    .dataframe tbody tr th {\n",
       "        vertical-align: top;\n",
       "    }\n",
       "\n",
       "    .dataframe thead th {\n",
       "        text-align: right;\n",
       "    }\n",
       "</style>\n",
       "<table border=\"1\" class=\"dataframe\">\n",
       "  <thead>\n",
       "    <tr style=\"text-align: right;\">\n",
       "      <th></th>\n",
       "      <th>Bob</th>\n",
       "      <th>Sandy</th>\n",
       "      <th>NewColumn</th>\n",
       "      <th>0</th>\n",
       "    </tr>\n",
       "  </thead>\n",
       "  <tbody>\n",
       "    <tr>\n",
       "      <th>G1</th>\n",
       "      <td>89</td>\n",
       "      <td>98.1</td>\n",
       "      <td>0.0</td>\n",
       "      <td>98.2</td>\n",
       "    </tr>\n",
       "    <tr>\n",
       "      <th>G2</th>\n",
       "      <td>99</td>\n",
       "      <td>88.1</td>\n",
       "      <td>0.0</td>\n",
       "      <td>98.2</td>\n",
       "    </tr>\n",
       "    <tr>\n",
       "      <th>G3</th>\n",
       "      <td>55</td>\n",
       "      <td>88.1</td>\n",
       "      <td>0.0</td>\n",
       "      <td>98.2</td>\n",
       "    </tr>\n",
       "    <tr>\n",
       "      <th>G4</th>\n",
       "      <td>62</td>\n",
       "      <td>NaN</td>\n",
       "      <td>0.0</td>\n",
       "      <td>98.2</td>\n",
       "    </tr>\n",
       "    <tr>\n",
       "      <th>G5</th>\n",
       "      <td>56</td>\n",
       "      <td>NaN</td>\n",
       "      <td>0.0</td>\n",
       "      <td>98.2</td>\n",
       "    </tr>\n",
       "    <tr>\n",
       "      <th>0</th>\n",
       "      <td>NaN</td>\n",
       "      <td>NaN</td>\n",
       "      <td>234.0</td>\n",
       "      <td>NaN</td>\n",
       "    </tr>\n",
       "  </tbody>\n",
       "</table>\n",
       "</div>"
      ],
      "text/plain": [
       "    Bob Sandy  NewColumn     0\n",
       "G1   89  98.1        0.0  98.2\n",
       "G2   99  88.1        0.0  98.2\n",
       "G3   55  88.1        0.0  98.2\n",
       "G4   62   NaN        0.0  98.2\n",
       "G5   56   NaN        0.0  98.2\n",
       "0   NaN   NaN      234.0   NaN"
      ]
     },
     "execution_count": 29,
     "metadata": {},
     "output_type": "execute_result"
    }
   ],
   "source": [
    "#Create a new row\n",
    "Gradebook2.loc[0,\"NewColumn\"]= 234\n",
    "Gradebook2"
   ]
  },
  {
   "cell_type": "code",
   "execution_count": null,
   "metadata": {},
   "outputs": [],
   "source": [
    "### select rows with genders with 1 or 2. or\n",
    "# stu_df[(stu_df['gender']==1)|(stu_df['gender']==2 )]\n",
    "### select rows with ages outside of range.[18,80] and \n",
    "# stu_df = stu_df[(stu_df['age']>=18)&(stu_df['age']<=80)]"
   ]
  },
  {
   "cell_type": "markdown",
   "metadata": {},
   "source": [
    "##### missing data"
   ]
  },
  {
   "cell_type": "code",
   "execution_count": 30,
   "metadata": {},
   "outputs": [
    {
     "data": {
      "text/plain": [
       "Index(['Bob', 'Sandy', 0], dtype='object')"
      ]
     },
     "execution_count": 30,
     "metadata": {},
     "output_type": "execute_result"
    }
   ],
   "source": [
    "#找出有空值得col\n",
    "Gradebook2.columns[Gradebook2.isnull().any()] "
   ]
  },
  {
   "cell_type": "code",
   "execution_count": 31,
   "metadata": {},
   "outputs": [
    {
     "data": {
      "text/html": [
       "<div>\n",
       "<style scoped>\n",
       "    .dataframe tbody tr th:only-of-type {\n",
       "        vertical-align: middle;\n",
       "    }\n",
       "\n",
       "    .dataframe tbody tr th {\n",
       "        vertical-align: top;\n",
       "    }\n",
       "\n",
       "    .dataframe thead th {\n",
       "        text-align: right;\n",
       "    }\n",
       "</style>\n",
       "<table border=\"1\" class=\"dataframe\">\n",
       "  <thead>\n",
       "    <tr style=\"text-align: right;\">\n",
       "      <th></th>\n",
       "      <th>Bob</th>\n",
       "      <th>Sandy</th>\n",
       "      <th>NewColumn</th>\n",
       "      <th>0</th>\n",
       "    </tr>\n",
       "  </thead>\n",
       "  <tbody>\n",
       "    <tr>\n",
       "      <th>G4</th>\n",
       "      <td>62</td>\n",
       "      <td>NaN</td>\n",
       "      <td>0.0</td>\n",
       "      <td>98.2</td>\n",
       "    </tr>\n",
       "    <tr>\n",
       "      <th>G5</th>\n",
       "      <td>56</td>\n",
       "      <td>NaN</td>\n",
       "      <td>0.0</td>\n",
       "      <td>98.2</td>\n",
       "    </tr>\n",
       "    <tr>\n",
       "      <th>0</th>\n",
       "      <td>NaN</td>\n",
       "      <td>NaN</td>\n",
       "      <td>234.0</td>\n",
       "      <td>NaN</td>\n",
       "    </tr>\n",
       "  </tbody>\n",
       "</table>\n",
       "</div>"
      ],
      "text/plain": [
       "    Bob Sandy  NewColumn     0\n",
       "G4   62   NaN        0.0  98.2\n",
       "G5   56   NaN        0.0  98.2\n",
       "0   NaN   NaN      234.0   NaN"
      ]
     },
     "execution_count": 31,
     "metadata": {},
     "output_type": "execute_result"
    }
   ],
   "source": [
    "#找出有空值得row\n",
    "Gradebook2[Gradebook2.isnull().any(axis=1)] \n",
    "#Gradebook2.index[Gradebook2.isnull().any(axis=1)] "
   ]
  },
  {
   "cell_type": "markdown",
   "metadata": {},
   "source": [
    "##### Remove 空值"
   ]
  },
  {
   "cell_type": "code",
   "execution_count": 208,
   "metadata": {},
   "outputs": [
    {
     "data": {
      "text/html": [
       "<div>\n",
       "<style scoped>\n",
       "    .dataframe tbody tr th:only-of-type {\n",
       "        vertical-align: middle;\n",
       "    }\n",
       "\n",
       "    .dataframe tbody tr th {\n",
       "        vertical-align: top;\n",
       "    }\n",
       "\n",
       "    .dataframe thead th {\n",
       "        text-align: right;\n",
       "    }\n",
       "</style>\n",
       "<table border=\"1\" class=\"dataframe\">\n",
       "  <thead>\n",
       "    <tr style=\"text-align: right;\">\n",
       "      <th></th>\n",
       "      <th>Bob</th>\n",
       "      <th>NewColumn2</th>\n",
       "      <th>Sandy</th>\n",
       "      <th>NewColumn</th>\n",
       "    </tr>\n",
       "  </thead>\n",
       "  <tbody>\n",
       "    <tr>\n",
       "      <th>G1</th>\n",
       "      <td>65</td>\n",
       "      <td>NaN</td>\n",
       "      <td>98.1</td>\n",
       "      <td>98.2</td>\n",
       "    </tr>\n",
       "    <tr>\n",
       "      <th>G2</th>\n",
       "      <td>70</td>\n",
       "      <td>NaN</td>\n",
       "      <td>88.1</td>\n",
       "      <td>0.0</td>\n",
       "    </tr>\n",
       "    <tr>\n",
       "      <th>G3</th>\n",
       "      <td>84</td>\n",
       "      <td>NaN</td>\n",
       "      <td>88.1</td>\n",
       "      <td>0.0</td>\n",
       "    </tr>\n",
       "  </tbody>\n",
       "</table>\n",
       "</div>"
      ],
      "text/plain": [
       "   Bob  NewColumn2 Sandy  NewColumn\n",
       "G1  65         NaN  98.1       98.2\n",
       "G2  70         NaN  88.1        0.0\n",
       "G3  84         NaN  88.1        0.0"
      ]
     },
     "execution_count": 208,
     "metadata": {},
     "output_type": "execute_result"
    }
   ],
   "source": [
    "#replace NaN to 0\n",
    "#Gradebook2=Gradebook2.fillna(0) \n",
    "\n",
    "#删除某一列的有missing value row\n",
    "Gradebook2 = Gradebook2[Gradebook2['Sandy'].notnull()] # or\n",
    "\n",
    "#删除全部有missing value 的 row\n",
    "#Gradebook2[~Gradebook2.isnull().any(axis=1)] # or\n",
    "\n",
    "Gradebook2"
   ]
  },
  {
   "cell_type": "code",
   "execution_count": null,
   "metadata": {},
   "outputs": [],
   "source": [
    "# remove row with condition\n",
    "#Remove rows with IDs that are not 6 in length.\n",
    "# stu_df = stu_df[stu_df.id.map(len)==6] "
   ]
  },
  {
   "cell_type": "markdown",
   "metadata": {},
   "source": [
    "##### wrangling data --- convert type"
   ]
  },
  {
   "cell_type": "code",
   "execution_count": 169,
   "metadata": {},
   "outputs": [
    {
     "data": {
      "text/plain": [
       "CRIM        float64\n",
       "ZN         category\n",
       "INDUS       float64\n",
       "CHAS        float64\n",
       "NOX         float64\n",
       "RM          float64\n",
       "AGE         float64\n",
       "DIS         float64\n",
       "RAD         float64\n",
       "TAX          object\n",
       "PTRATIO     float64\n",
       "B           float64\n",
       "LSTAT       float64\n",
       "target      float64\n",
       "dtype: object"
      ]
     },
     "execution_count": 169,
     "metadata": {},
     "output_type": "execute_result"
    }
   ],
   "source": [
    "# convert type\n",
    "df.TAX = df.TAX.astype (str) \n",
    "df.ZN.astype (\"category\")\n",
    "df.ZN = pd.Categorical(df.ZN) \n",
    "df.dtypes"
   ]
  },
  {
   "cell_type": "markdown",
   "metadata": {},
   "source": [
    "##### 筛选"
   ]
  },
  {
   "cell_type": "code",
   "execution_count": 171,
   "metadata": {},
   "outputs": [
    {
     "data": {
      "text/plain": [
       "array(['296.0', '242.0', '222.0', '311.0', '307.0', '279.0', '252.0',\n",
       "       '233.0', '243.0', '469.0', '226.0', '313.0', '256.0', '284.0',\n",
       "       '216.0', '337.0', '345.0', '305.0', '398.0', '281.0', '247.0',\n",
       "       '270.0', '276.0', '384.0', '432.0', '188.0', '437.0', '403.0',\n",
       "       '193.0', '265.0', '255.0', '329.0', '402.0', '348.0', '224.0',\n",
       "       '277.0', '300.0', '330.0', '315.0', '244.0', '264.0', '223.0',\n",
       "       '254.0', '198.0', '285.0', '241.0', '293.0', '245.0', '289.0',\n",
       "       '358.0', '304.0', '287.0', '430.0', '422.0', '370.0', '352.0',\n",
       "       '351.0', '280.0', '335.0', '411.0', '187.0', '334.0', '666.0',\n",
       "       '711.0', '391.0', '273.0'], dtype=object)"
      ]
     },
     "execution_count": 171,
     "metadata": {},
     "output_type": "execute_result"
    }
   ],
   "source": [
    "df.TAX.unique()"
   ]
  },
  {
   "cell_type": "code",
   "execution_count": null,
   "metadata": {},
   "outputs": [],
   "source": [
    "#select rows with genders other than 1 or 2.\n",
    "stu_df[(stu_df['gender']==1)|(stu_df['gender']==2 )]\n",
    "#select rows with ages inside of range.[18,80]\n",
    "stu_df = stu_df[(stu_df['age']>=18)&(stu_df['age']<=80)] "
   ]
  },
  {
   "cell_type": "code",
   "execution_count": 172,
   "metadata": {},
   "outputs": [
    {
     "data": {
      "text/plain": [
       "array(['22', '311.0', '307.0', '469.0', '313.0', '337.0', '345.0',\n",
       "       '305.0', '398.0', '384.0', '188.0', '437.0', '403.0', '193.0',\n",
       "       '348.0', '300.0', '330.0', '315.0', '198.0', '358.0', '304.0',\n",
       "       '430.0', '370.0', '351.0', '335.0', '411.0', '187.0', '334.0',\n",
       "       '666.0', '711.0', '391.0'], dtype=object)"
      ]
     },
     "execution_count": 172,
     "metadata": {},
     "output_type": "execute_result"
    }
   ],
   "source": [
    "df.loc[df.TAX.str.contains('2'),'TAX'] = '22'   # 修改所有包含字符2的\n",
    "df.TAX.unique()"
   ]
  },
  {
   "cell_type": "code",
   "execution_count": 173,
   "metadata": {},
   "outputs": [
    {
     "data": {
      "text/plain": [
       "array(['311.0', '307.0', '469.0', '313.0', '337.0', '345.0', '305.0',\n",
       "       '398.0', '384.0', '188.0', '437.0', '403.0', '193.0', '348.0',\n",
       "       '300.0', '330.0', '315.0', '198.0', '358.0', '304.0', '430.0',\n",
       "       '370.0', '351.0', '335.0', '411.0', '187.0', '334.0', '666.0',\n",
       "       '711.0', '391.0'], dtype=object)"
      ]
     },
     "execution_count": 173,
     "metadata": {},
     "output_type": "execute_result"
    }
   ],
   "source": [
    "df = df[~df.TAX.str.match('22')]      # 删除所有字符‘22’\n",
    "df.TAX.unique()"
   ]
  },
  {
   "cell_type": "code",
   "execution_count": 174,
   "metadata": {},
   "outputs": [
    {
     "data": {
      "text/plain": [
       "array(['307.0', '469.0', '313.0', '337.0', '345.0', '305.0', '398.0',\n",
       "       '384.0', '188.0', '437.0', '403.0', '193.0', '348.0', '300.0',\n",
       "       '330.0', '315.0', '198.0', '358.0', '304.0', '430.0', '370.0',\n",
       "       '351.0', '335.0', '411.0', '187.0', '334.0', '666.0', '711.0',\n",
       "       '391.0'], dtype=object)"
      ]
     },
     "execution_count": 174,
     "metadata": {},
     "output_type": "execute_result"
    }
   ],
   "source": [
    "df = df[df.TAX != '311.0']\n",
    "df.TAX.unique()"
   ]
  },
  {
   "cell_type": "code",
   "execution_count": null,
   "metadata": {},
   "outputs": [],
   "source": []
  },
  {
   "cell_type": "code",
   "execution_count": null,
   "metadata": {},
   "outputs": [],
   "source": []
  },
  {
   "cell_type": "markdown",
   "metadata": {},
   "source": []
  },
  {
   "cell_type": "code",
   "execution_count": null,
   "metadata": {},
   "outputs": [],
   "source": [
    "\n",
    "\n",
    "\n",
    "#2. convert from other type\n",
    "MyDict=[{\"Name\":\"Bob\", \"Age\":29, \"Degree\":\"MS\"}, {\"Name\":\"Rob\", \"Age\":34, \"Degree\":\"PhD\"}]\n",
    "DictDF=pd.DataFrame.from_dict(MyDict)\n",
    "DictDF.insert(2, 'NewColumn', [20007, 23604])\n",
    "#REMOVE the “Degree” column\n",
    "DictDF=DictDF.drop(\"Degree\", axis=1)\n",
    "#axis=1 is the column, axis=0 is the row\n",
    "#Remove the first row (row 0)\n",
    "DictDF=DictDF.drop(0)\n",
    "print(DictDF)\n",
    "\n",
    "\n",
    "######### cleaning data\n",
    "#convert the type of column id to string\n",
    "stu_df.id = stu_df.id.astype (str) \n",
    "   # stu_df.id.astype (\"category\")\n",
    "   #or df.Sex = pd.Categorical(df.Sex) # \n",
    "\n",
    "#Remove rows with incorrect or missing gpa values.\n",
    "stu_df = stu_df[(stu_df['gpa']>=float(0))&(stu_df['gpa']<=float(4.00))] \n",
    "#Remove rows with sat missing or out of range [0,1600].\n",
    "stu_df = stu_df[(stu_df.sat>=0)&(stu_df.sat<=1600)] \n",
    "#Remove rows with sections that are missing.\n",
    "stu_df = stu_df[stu_df['section'].notnull()]\n",
    "#Remove rows with any incorrect or missing values of final\n",
    "stu_df = stu_df[(stu_df.final>=0)&(stu_df.final<=100)] \n",
    "#Remove rows with any incorrect or missing values of final\n",
    "stu_df = stu_df[(stu_df.project>=0)&(stu_df.project<=100)] \n",
    "\n",
    "#找出有空值得col\n",
    "null_columns=df.columns[df.isnull().any()]\n",
    "#replace NaN to 0\n",
    "df=df.fillna(0) \n",
    "\n",
    "#change type\n",
    "#df.Items =  df.Items.astype ('category') \n",
    "\n",
    "\n",
    "\n",
    "#1\n",
    "bins = [0,2,2.5,3,3.5,4]\n",
    "labels = ['F','D','C','B','A']\n",
    "stu_df['binned'] = pd.cut(stu_df['gpa'], bins=bins, labels=labels)\n",
    "\n",
    "\n",
    "pd.set_option('display.max_columns', None) #\n",
    "\n",
    "# =============================================================================\n",
    "# # t-test for independent samples\n",
    "# =============================================================================\n",
    "from math import sqrt\n",
    "from numpy.random import seed\n",
    "from numpy.random import randn\n",
    "from numpy import mean\n",
    "from scipy.stats import sem\n",
    "from scipy.stats import t\n",
    "\n",
    "# function for calculating the t-test for two independent samples\n",
    "def independent_ttest(data1, data2, alpha):\n",
    "\t# calculate means\n",
    "\tmean1, mean2 = mean(data1), mean(data2)\n",
    "\t# calculate standard errors\n",
    "\tse1, se2 = sem(data1), sem(data2)\n",
    "\t# standard error on the difference between the samples\n",
    "\tsed = sqrt(se1**2.0 + se2**2.0)\n",
    "\t# calculate the t statistic\n",
    "\tt_stat = (mean1 - mean2) / sed\n",
    "\t# degrees of freedom\n",
    "\tdf = len(data1) + len(data2) - 2\n",
    "\t# calculate the critical value\n",
    "\tcv = t.ppf(1.0 - alpha, df)\n",
    "\t# calculate the p-value\n",
    "\tp = (1.0 - t.cdf(abs(t_stat), df)) * 2.0\n",
    "\t# return everything\n",
    "\treturn t_stat, df, cv, p\n",
    "\n",
    "# seed the random number generator\n",
    "seed(1)\n",
    "# generate two independent samples\n",
    "data1 = 5 * randn(100) + 50\n",
    "data2 = 5 * randn(100) + 51\n",
    "# calculate the t test\n",
    "alpha = 0.05\n",
    "t_stat, df, cv, p = independent_ttest(data1, data2, alpha)\n",
    "print('t=%.3f, df=%d, cv=%.3f, p=%.3f' % (t_stat, df, cv, p))\n",
    "# interpret via critical value\n",
    "if abs(t_stat) <= cv:\n",
    "\tprint('Accept null hypothesis that the means are equal.')\n",
    "else:\n",
    "\tprint('Reject the null hypothesis that the means are equal.')\n",
    "# interpret via p-value\n",
    "if p > alpha:\n",
    "\tprint('Accept null hypothesis that the means are equal.')\n",
    "else:\n",
    "\tprint('Reject the null hypothesis that the means are equal.')\n",
    "    \n",
    "    \n",
    "    \n",
    "    \n",
    "# =============================================================================\n",
    "# R_Squared    \n",
    "# =============================================================================\n",
    "### Method 1\n",
    "from statistics import mean\n",
    "# R^2 = SSR / SST\n",
    "# create function that calculate regression line (Yi_hat = b0+b1*Xi) for y_hat \n",
    "def reg_line (x,y): # x = variable 1, y = variable 2\n",
    "    n = len(x) # n = sample size\n",
    "    xbar = mean(x)\n",
    "    ybar = mean(y)\n",
    "    b1 = (sum(x*y)-n*xbar*ybar)/(sum(x**2)-n*xbar**2)\n",
    "    b0 = ybar - b1 * xbar\n",
    "    return (b0,b1)\n",
    "# create function that calculate R squared\n",
    "def R_Squared (x,y):\n",
    "    #run the function of regression line \n",
    "    b0,b1 = reg_line(x,y)\n",
    "    #get y_hat series\n",
    "    yhat = b0 + b1*x\n",
    "    ybar = mean(y)\n",
    "    #calculate SSR   \n",
    "    SSR = sum((yhat - ybar)**2)\n",
    "    #calculate SST\n",
    "    SST = sum((y-ybar)**2)\n",
    "    #calculate R value\n",
    "    R_squared = SSR/SST\n",
    "    return R_squared\n",
    "#R_values= math.sqrt(R_Squared (x,y) ) \n",
    "    \n",
    "### Method 2\n",
    "np.corrcoef(x,y)\n",
    "\n",
    "\n",
    "\n",
    "# =============================================================================\n",
    "# ANOVA\n",
    "# =============================================================================\n",
    "\n",
    "import pandas as pd\n",
    "datafile = \"PlantGrowth.csv\"\n",
    "data = pd.read_csv('PlantGrowth.csv')\n",
    "\n",
    "#Create a boxplot\n",
    "#data.boxplot('weight', by='group', figsize=(12, 8))\n",
    "\n",
    "\n",
    "grps = pd.unique(data.group.values)\n",
    "d_data = {grp:data['weight'][data.group == grp] for grp in grps}\n",
    "\n",
    "k = len(pd.unique(data.group))  # number of conditions\n",
    "N = len(data.values)  # conditions times participants\n",
    "n = data.groupby('group').size()[0] #Participants in each condition\n",
    "\n",
    "from scipy import stats\n",
    "\n",
    "F, p = stats.f_oneway(d_data['ctrl'], d_data['trt1'], d_data['trt2'])\n",
    "\n",
    "\n",
    "# ==========================\n",
    "# DFbetween = k - 1\n",
    "# DFwithin = N - k\n",
    "# DFtotal = N - 1\n",
    "# SSbetween = (sum(data.groupby('group').sum()['weight']**2)/n) -(data['weight'].sum()**2)/N\n",
    "# sum_y_squared = sum([value**2 for value in data['weight'].values])\n",
    "# SSwithin = sum_y_squared - sum(data.groupby('group').sum()['weight']**2)/n\n",
    "# SStotal = sum_y_squared - (data['weight'].sum()**2)/N\n",
    "# MSbetween = SSbetween/DFbetween\n",
    "# MSwithin = SSwithin/DFwithin \n",
    "# F2 = MSbetween/MSwithin\n",
    "# p2 = stats.f.sf(F, DFbetween, DFwithin)\n",
    "# ==========================\n",
    "import statsmodels.api as sm\n",
    "from statsmodels.formula.api import ols\n",
    "# 重点！！！！ group的type一定要是“\n",
    "data.dtypes\n",
    "data.group = data.group.astype ('category') \n",
    "mod = ols('weight ~ group', data=data).fit()           \n",
    "aov_table = sm.stats.anova_lm(mod, typ=2)\n",
    "print (aov_table)\n",
    "# ==========================\n",
    "# >>> import random\n",
    "#>>> random.seed(0)\n",
    "#>>> data = [[random.randint(1, 20) for _ in range(size)] for size in range(1, 5)]\n",
    "#>>> for sample in data:\n",
    "#...     print(sample)\n",
    "#[13]\n",
    "#[14, 2]\n",
    "#[9, 17, 16]\n",
    "#[13, 10, 16, 12]\n",
    "#\n",
    "#We see that we have 4 samples of different size. Here let’s carry out the ANOVA:\n",
    "#\n",
    "#>>> from scipy import stats\n",
    "#>>> f_val, p_val = stats.f_oneway(*data)\n",
    "#>>> p_val\n",
    "#0.57172146848075944   \n",
    "# ==========================  \n",
    "\n",
    "   \n",
    "\n",
    "\n",
    "\n",
    "        \n",
    "# =============================================================================\n",
    "# visualization\n",
    "# =============================================================================\n",
    "\n",
    "# https://www.machinelearningplus.com/plots/top-50-matplotlib-visualizations-the-master-plots-python/#17.-Dot-Plot\n",
    "    \n",
    "    \n",
    "    \n",
    "#To reject the null hypothesis we check if the obtained F-value is \n",
    "#above the critical value for rejecting the null hypothesis. We could \n",
    "#look it up in a F-value table based on the DFwithin and DFbetween\n"
   ]
  },
  {
   "cell_type": "markdown",
   "metadata": {},
   "source": [
    "# Dictionary"
   ]
  },
  {
   "cell_type": "code",
   "execution_count": 39,
   "metadata": {},
   "outputs": [
    {
     "name": "stdout",
     "output_type": "stream",
     "text": [
      "{'brand': 'Ford', 'model': 'Mustang', 'year': 1964}\n"
     ]
    }
   ],
   "source": [
    "dict = {\n",
    "  \"brand\": \"Ford\",\n",
    "  \"model\": \"Mustang\",\n",
    "  \"year\": 1964\n",
    "}\n",
    "print(dict)"
   ]
  },
  {
   "cell_type": "code",
   "execution_count": 38,
   "metadata": {},
   "outputs": [
    {
     "data": {
      "text/plain": [
       "'Mustang'"
      ]
     },
     "execution_count": 38,
     "metadata": {},
     "output_type": "execute_result"
    }
   ],
   "source": [
    "dict[\"model\"]"
   ]
  },
  {
   "cell_type": "code",
   "execution_count": 40,
   "metadata": {},
   "outputs": [
    {
     "data": {
      "text/plain": [
       "dict_keys(['brand', 'model', 'year'])"
      ]
     },
     "execution_count": 40,
     "metadata": {},
     "output_type": "execute_result"
    }
   ],
   "source": [
    "dict.keys()"
   ]
  },
  {
   "cell_type": "code",
   "execution_count": 41,
   "metadata": {},
   "outputs": [
    {
     "data": {
      "text/plain": [
       "dict_items([('brand', 'Ford'), ('model', 'Mustang'), ('year', 1964)])"
      ]
     },
     "execution_count": 41,
     "metadata": {},
     "output_type": "execute_result"
    }
   ],
   "source": [
    "dict.items()"
   ]
  },
  {
   "cell_type": "code",
   "execution_count": 45,
   "metadata": {},
   "outputs": [
    {
     "data": {
      "text/plain": [
       "dict_values(['Ford', 'Mustang', 1964])"
      ]
     },
     "execution_count": 45,
     "metadata": {},
     "output_type": "execute_result"
    }
   ],
   "source": [
    "dict.values()"
   ]
  },
  {
   "cell_type": "code",
   "execution_count": null,
   "metadata": {},
   "outputs": [],
   "source": [
    "for key, value in class_list.items():\n",
    "    print('key: {}, value: {}'.format(key, value))"
   ]
  },
  {
   "cell_type": "code",
   "execution_count": null,
   "metadata": {},
   "outputs": [],
   "source": []
  },
  {
   "cell_type": "code",
   "execution_count": null,
   "metadata": {},
   "outputs": [],
   "source": []
  },
  {
   "cell_type": "code",
   "execution_count": 48,
   "metadata": {},
   "outputs": [
    {
     "ename": "TypeError",
     "evalue": "'dict_keys' object is not subscriptable",
     "output_type": "error",
     "traceback": [
      "\u001b[0;31m---------------------------------------------------------------------------\u001b[0m",
      "\u001b[0;31mTypeError\u001b[0m                                 Traceback (most recent call last)",
      "\u001b[0;32m<ipython-input-48-0b36b3f20884>\u001b[0m in \u001b[0;36m<module>\u001b[0;34m\u001b[0m\n\u001b[0;32m----> 1\u001b[0;31m \u001b[0mdict\u001b[0m\u001b[0;34m.\u001b[0m\u001b[0mkeys\u001b[0m\u001b[0;34m(\u001b[0m\u001b[0;34m)\u001b[0m\u001b[0;34m[\u001b[0m\u001b[0;34m'Ford'\u001b[0m\u001b[0;34m]\u001b[0m\u001b[0;34m\u001b[0m\u001b[0;34m\u001b[0m\u001b[0m\n\u001b[0m",
      "\u001b[0;31mTypeError\u001b[0m: 'dict_keys' object is not subscriptable"
     ]
    }
   ],
   "source": []
  },
  {
   "cell_type": "code",
   "execution_count": null,
   "metadata": {},
   "outputs": [],
   "source": []
  }
 ],
 "metadata": {
  "kernelspec": {
   "display_name": "Python 3",
   "language": "python",
   "name": "python3"
  },
  "language_info": {
   "codemirror_mode": {
    "name": "ipython",
    "version": 3
   },
   "file_extension": ".py",
   "mimetype": "text/x-python",
   "name": "python",
   "nbconvert_exporter": "python",
   "pygments_lexer": "ipython3",
   "version": "3.7.1"
  }
 },
 "nbformat": 4,
 "nbformat_minor": 2
}
