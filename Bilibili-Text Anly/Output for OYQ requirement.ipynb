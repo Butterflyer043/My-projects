{
 "cells": [
  {
   "cell_type": "code",
   "execution_count": null,
   "metadata": {},
   "outputs": [],
   "source": [
    "df1 = pd.read_csv('共青团视频列表_封城前后(截止至4.1).csv')"
   ]
  },
  {
   "cell_type": "code",
   "execution_count": null,
   "metadata": {},
   "outputs": [],
   "source": [
    "df1 = df1.drop('Unnamed: 0',axis=1)\n",
    "df1.head()"
   ]
  },
  {
   "cell_type": "code",
   "execution_count": null,
   "metadata": {},
   "outputs": [],
   "source": [
    "string1 = \"20/01/2020 00:00:00\"\n",
    "string2 = \"20/03/2020 23:59:59\"\n",
    "# convert date to timestamp\n",
    "begin_date = time.mktime(datetime.datetime.strptime(string1, \"%d/%m/%Y %H:%M:%S\").timetuple())\n",
    "end_date = time.mktime(datetime.datetime.strptime(string2, \"%d/%m/%Y %H:%M:%S\").timetuple())\n",
    "#print(\"Begin date-timestamp:{} \\nEnd date-timestamp:{}\".format(begin_date,end_date)) \n",
    "df1 = df1[(df1['time']>= begin_date) & (df['time']<=end_date)]\n",
    "df1"
   ]
  },
  {
   "cell_type": "code",
   "execution_count": null,
   "metadata": {},
   "outputs": [],
   "source": [
    "df1_2 = df1[['title', 'description','section', 'sub-section',\n",
    "                     'date',  'length', 'comment', 'view', 'danmaku', \n",
    "                     'favorite', 'coin', 'share', 'his_rank', 'like', 'dislike', 'bvid','aid','time']]"
   ]
  },
  {
   "cell_type": "code",
   "execution_count": null,
   "metadata": {},
   "outputs": [],
   "source": [
    "df1_2.rename(columns = {'title':\"视频标题\", 'description':\"简介\",'section':\"分区\", 'sub-section':\"小分区\",\n",
    "                             'date':\"发布日期\",  'length':\"时长\", 'view':\"播放量\",'comment':\"评论量\",  \n",
    "                           'danmaku':\"弹幕量\", 'favorite':\"收藏量\", 'coin':\"投币量\", 'share':\"分享量\", \n",
    "                           'his_rank':\"历史最高排名\", 'like':\"点赞量\", 'dislike':\"不喜欢量\"}, inplace = True)"
   ]
  },
  {
   "cell_type": "code",
   "execution_count": null,
   "metadata": {},
   "outputs": [],
   "source": [
    "df2= pd.read_csv('共青团视频弹幕(11.20-3.20)(数据截止 4.1).csv')"
   ]
  },
  {
   "cell_type": "code",
   "execution_count": null,
   "metadata": {},
   "outputs": [],
   "source": [
    "df2 = df2.drop('Unnamed: 0',axis=1)\n",
    "df2.shape"
   ]
  },
  {
   "cell_type": "code",
   "execution_count": null,
   "metadata": {},
   "outputs": [],
   "source": [
    "df_full = pd.merge(df1_2, df2, on='aid',how='left')\n",
    "df_full = df_full.sort_values(by='time')\n",
    "df_full2=df_full[['视频标题', '简介', '分区', '小分区', '发布日期', '时长', '评论量', '播放量', '弹幕量', '收藏量',\n",
    "       '投币量', '分享量', '历史最高排名', '点赞量', '不喜欢量','dm_content', 'bvid']]"
   ]
  },
  {
   "cell_type": "code",
   "execution_count": null,
   "metadata": {},
   "outputs": [],
   "source": [
    "df_full2.rename(columns = {'dm_content':\"弹幕内容\"}, inplace = True)"
   ]
  },
  {
   "cell_type": "code",
   "execution_count": null,
   "metadata": {},
   "outputs": [],
   "source": [
    "df_full2=df_full2.reset_index(drop=True)"
   ]
  },
  {
   "cell_type": "code",
   "execution_count": null,
   "metadata": {},
   "outputs": [],
   "source": [
    "df_full2.to_excel(\"共青团视频列表_封城后+弹幕(1.20-3.20)(截止至4.1).xlsx\")"
   ]
  }
 ],
 "metadata": {
  "kernelspec": {
   "display_name": "Python 3",
   "language": "python",
   "name": "python3"
  },
  "language_info": {
   "codemirror_mode": {
    "name": "ipython",
    "version": 3
   },
   "file_extension": ".py",
   "mimetype": "text/x-python",
   "name": "python",
   "nbconvert_exporter": "python",
   "pygments_lexer": "ipython3",
   "version": "3.7.1"
  }
 },
 "nbformat": 4,
 "nbformat_minor": 2
}
