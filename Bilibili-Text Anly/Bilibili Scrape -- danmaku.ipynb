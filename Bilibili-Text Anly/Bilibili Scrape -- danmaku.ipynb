{
 "cells": [
  {
   "cell_type": "markdown",
   "metadata": {},
   "source": [
    "# Bilibili Scraping  - 弹幕"
   ]
  },
  {
   "cell_type": "code",
   "execution_count": 24,
   "metadata": {},
   "outputs": [],
   "source": [
    "# import library\n",
    "import requests\n",
    "from bs4 import BeautifulSoup\n",
    "import json\n",
    "import pandas as pd\n",
    "import datetime\n",
    "import time \n",
    "import xml.etree.ElementTree as etree\n",
    "import re"
   ]
  },
  {
   "cell_type": "code",
   "execution_count": null,
   "metadata": {},
   "outputs": [],
   "source": [
    "https://api.bilibili.com/x/v1/dm/list.so?oid=45508213"
   ]
  },
  {
   "cell_type": "code",
   "execution_count": 133,
   "metadata": {},
   "outputs": [
    {
     "data": {
      "text/html": [
       "<div>\n",
       "<style scoped>\n",
       "    .dataframe tbody tr th:only-of-type {\n",
       "        vertical-align: middle;\n",
       "    }\n",
       "\n",
       "    .dataframe tbody tr th {\n",
       "        vertical-align: top;\n",
       "    }\n",
       "\n",
       "    .dataframe thead th {\n",
       "        text-align: right;\n",
       "    }\n",
       "</style>\n",
       "<table border=\"1\" class=\"dataframe\">\n",
       "  <thead>\n",
       "    <tr style=\"text-align: right;\">\n",
       "      <th></th>\n",
       "      <th>aid</th>\n",
       "      <th>cid</th>\n",
       "      <th>dm_timestamp</th>\n",
       "      <th>dm_date</th>\n",
       "      <th>dm_content</th>\n",
       "    </tr>\n",
       "  </thead>\n",
       "  <tbody>\n",
       "    <tr>\n",
       "      <th>0</th>\n",
       "      <td>455082139</td>\n",
       "      <td>171794896</td>\n",
       "      <td>1585579760</td>\n",
       "      <td>2020-03-30 14:49:20</td>\n",
       "      <td>刚刚</td>\n",
       "    </tr>\n",
       "    <tr>\n",
       "      <th>1</th>\n",
       "      <td>455082139</td>\n",
       "      <td>171794896</td>\n",
       "      <td>1585579773</td>\n",
       "      <td>2020-03-30 14:49:33</td>\n",
       "      <td>……</td>\n",
       "    </tr>\n",
       "  </tbody>\n",
       "</table>\n",
       "</div>"
      ],
      "text/plain": [
       "         aid        cid dm_timestamp              dm_date dm_content\n",
       "0  455082139  171794896   1585579760  2020-03-30 14:49:20         刚刚\n",
       "1  455082139  171794896   1585579773  2020-03-30 14:49:33         ……"
      ]
     },
     "execution_count": 133,
     "metadata": {},
     "output_type": "execute_result"
    }
   ],
   "source": [
    "def get_danmaku(aid,df):\n",
    "    # obtain cid \n",
    "    url_cid = 'https://www.bilibili.com/widget/getPageList?aid='+ str(aid)\n",
    "    response_cid = requests.get(url_cid)\n",
    "    json_cid = json.loads(response_cid.text)\n",
    "    cid = json_cid[0]['cid']\n",
    "    \n",
    "    url = \"https://api.bilibili.com/x/v1/dm/list.so?oid=\" + str(cid)\n",
    "    response = requests.get(url)\n",
    "    html_doc = response.content.decode('utf-8')\n",
    "    # html_doc = <d p=\"54.01300,1,25,16777215,1531313705,0,f1d4f711,2187083291033602\">我狂铁胜率百分之85</d>\n",
    "    format_doc = re.compile('<d p=\"(.*?)\">(.*?)</d>')\n",
    "    # danmu = [(('54.01300,1,25,16777215,1531313705,0,f1d4f711,2187083291033602','我狂铁胜率百分之85')),()]\n",
    "    # () = tuple\n",
    "    danmu = format_doc.findall(html_doc)\n",
    "    \n",
    "    # function of organize data\n",
    "    def reformat(tuples):\n",
    "        # info = '54.01300,1,25,16777215,1531313705,0,f1d4f711,2187083291033602' - str\n",
    "        info = tuples[0]\n",
    "        # words = '我狂铁胜率百分之85'\n",
    "        words = tuples[1]\n",
    "        # info = [54.01300,1,25,16777215,1531313705,0,f1d4f711,2187083291033602] - list\n",
    "        # info = [弹幕出现的时间,弹幕的模式]\n",
    "        info = info.split(',')\n",
    "        # timestamp, readable datatime \n",
    "        #return [[['1531313705', '2018-07-11 12:55:05', '我狂铁胜率百分之85']],[],[]]\n",
    "        return [info[4],str(pd.to_datetime(info[4],unit='s')),words]\n",
    "    \n",
    "    map_f = map(reformat, danmu)\n",
    "    data=list(map_f)\n",
    "    \n",
    "    df_new = pd.DataFrame(data,columns=['dm_timestamp', 'dm_date', 'dm_content'])\n",
    "    df_new['aid'] = str(aid)\n",
    "    df_new['cid'] = str(cid)\n",
    "    df_new = df_new[['aid','cid','dm_timestamp', 'dm_date', 'dm_content']]\n",
    "\n",
    "    df = pd.concat([df, df_new], axis=0, sort=False)\n",
    "    return df_new\n",
    "\n",
    "df_new = get_danmaku('455082139',df)\n",
    "df_new.head(2)"
   ]
  },
  {
   "cell_type": "markdown",
   "metadata": {},
   "source": [
    "54.01300,1,25,16777215,1531313705,0,f1d4f711,2187083291033602  \n",
    "54.01300    : 弹幕出现的时间: 以秒为单位  \n",
    "1           : 弹幕的模式: 1～3 滚动弹幕 4 底端弹幕 5 顶端弹幕 6 逆向弹幕 7 精准定位 8 高级弹幕  \n",
    "25          : 字号: 12 非常小 16 特小 18 小 25 中 36 大 45 很大 64 特别大  \n",
    "16777215    : 字体的颜色：将 HTML 六位十六进制颜色转为十进制表示，例如 #FFFFFF 会被存储为 16777215\n",
    "1531313705  :时间戳: 以毫秒为单位，基准时间为 1970-1-1 08:00:00  \n",
    "0           :弹幕池: 0 普通池 1 字幕池 2 特殊池（注：目前特殊池为高级弹幕专用）  \n",
    "f1d4f711    :发送者的 ID: 用于「屏蔽此弹幕的发送者」功能  \n",
    "2187083291033602 : 弹幕在弹幕数据库中 rowID，用于「历史弹幕」功能  "
   ]
  },
  {
   "cell_type": "code",
   "execution_count": 132,
   "metadata": {},
   "outputs": [
    {
     "data": {
      "text/plain": [
       "0      98074209\n",
       "1      97931499\n",
       "2      97584279\n",
       "3      97390925\n",
       "4      97212672\n",
       "5      97122823\n",
       "6      97109018\n",
       "7      96810325\n",
       "8      96762566\n",
       "9      96574512\n",
       "10     96488000\n",
       "11     95885550\n",
       "12     95877065\n",
       "13     95717598\n",
       "14     95410338\n",
       "15     95237292\n",
       "16     95236484\n",
       "17     94980631\n",
       "18     94924222\n",
       "19     94911371\n",
       "20     94673985\n",
       "21     94459415\n",
       "22     94548443\n",
       "23     94547492\n",
       "24     94371400\n",
       "25     94153903\n",
       "26     93975554\n",
       "27     93947227\n",
       "28     93862087\n",
       "29     93583884\n",
       "         ...   \n",
       "184    78778449\n",
       "185    78676686\n",
       "186    78562932\n",
       "187    78309491\n",
       "188    78266046\n",
       "189    78108476\n",
       "190    78107150\n",
       "191    78108022\n",
       "192    78105054\n",
       "193    77975146\n",
       "194    77929401\n",
       "195    77806424\n",
       "196    77363037\n",
       "197    77303301\n",
       "198    77298289\n",
       "199    77290655\n",
       "200    77201944\n",
       "201    77087288\n",
       "202    77107340\n",
       "203    76947515\n",
       "204    76877449\n",
       "205    76838810\n",
       "206    76775549\n",
       "207    76450224\n",
       "208    76558189\n",
       "209    76524390\n",
       "210    76485537\n",
       "211    76467274\n",
       "212    76410258\n",
       "213    76394931\n",
       "Name: aid, Length: 214, dtype: int64"
      ]
     },
     "execution_count": 132,
     "metadata": {},
     "output_type": "execute_result"
    }
   ],
   "source": [
    "# obtain all the aid\n",
    "aid_list_df = pd.read_csv('共青团视频(11.20-3.20)(as of 4.1).csv')"
   ]
  },
  {
   "cell_type": "code",
   "execution_count": 134,
   "metadata": {},
   "outputs": [
    {
     "data": {
      "text/html": [
       "<div>\n",
       "<style scoped>\n",
       "    .dataframe tbody tr th:only-of-type {\n",
       "        vertical-align: middle;\n",
       "    }\n",
       "\n",
       "    .dataframe tbody tr th {\n",
       "        vertical-align: top;\n",
       "    }\n",
       "\n",
       "    .dataframe thead th {\n",
       "        text-align: right;\n",
       "    }\n",
       "</style>\n",
       "<table border=\"1\" class=\"dataframe\">\n",
       "  <thead>\n",
       "    <tr style=\"text-align: right;\">\n",
       "      <th></th>\n",
       "      <th>aid</th>\n",
       "      <th>cid</th>\n",
       "      <th>dm_timestamp</th>\n",
       "      <th>dm_date</th>\n",
       "      <th>dm_content</th>\n",
       "    </tr>\n",
       "  </thead>\n",
       "  <tbody>\n",
       "    <tr>\n",
       "      <th>0</th>\n",
       "      <td>76394931</td>\n",
       "      <td>130684654</td>\n",
       "      <td>1583161626</td>\n",
       "      <td>2020-03-02 15:07:06</td>\n",
       "      <td>广东粗口</td>\n",
       "    </tr>\n",
       "    <tr>\n",
       "      <th>1</th>\n",
       "      <td>76394931</td>\n",
       "      <td>130684654</td>\n",
       "      <td>1583163671</td>\n",
       "      <td>2020-03-02 15:41:11</td>\n",
       "      <td>潮汕脏话前来报道</td>\n",
       "    </tr>\n",
       "    <tr>\n",
       "      <th>2</th>\n",
       "      <td>76394931</td>\n",
       "      <td>130684654</td>\n",
       "      <td>1583163694</td>\n",
       "      <td>2020-03-02 15:41:34</td>\n",
       "      <td>潮汕脏话</td>\n",
       "    </tr>\n",
       "    <tr>\n",
       "      <th>3</th>\n",
       "      <td>76394931</td>\n",
       "      <td>130684654</td>\n",
       "      <td>1583163705</td>\n",
       "      <td>2020-03-02 15:41:45</td>\n",
       "      <td>草</td>\n",
       "    </tr>\n",
       "    <tr>\n",
       "      <th>4</th>\n",
       "      <td>76394931</td>\n",
       "      <td>130684654</td>\n",
       "      <td>1583163716</td>\n",
       "      <td>2020-03-02 15:41:56</td>\n",
       "      <td>扑领姨</td>\n",
       "    </tr>\n",
       "  </tbody>\n",
       "</table>\n",
       "</div>"
      ],
      "text/plain": [
       "        aid        cid dm_timestamp              dm_date dm_content\n",
       "0  76394931  130684654   1583161626  2020-03-02 15:07:06       广东粗口\n",
       "1  76394931  130684654   1583163671  2020-03-02 15:41:11   潮汕脏话前来报道\n",
       "2  76394931  130684654   1583163694  2020-03-02 15:41:34       潮汕脏话\n",
       "3  76394931  130684654   1583163705  2020-03-02 15:41:45          草\n",
       "4  76394931  130684654   1583163716  2020-03-02 15:41:56        扑领姨"
      ]
     },
     "execution_count": 134,
     "metadata": {},
     "output_type": "execute_result"
    }
   ],
   "source": [
    "df = pd.DataFrame(columns=['dm_timestamp', 'dm_date', 'dm_content'])\n",
    "\n",
    "for i in list(aid_list_df.aid):\n",
    "    df_new = get_danmaku(i,df)\n",
    "    df = pd.concat([df_new,df], axis=0, sort=False)\n",
    "df.head()"
   ]
  },
  {
   "cell_type": "code",
   "execution_count": 135,
   "metadata": {},
   "outputs": [
    {
     "data": {
      "text/plain": [
       "(143147, 5)"
      ]
     },
     "execution_count": 135,
     "metadata": {},
     "output_type": "execute_result"
    }
   ],
   "source": [
    "df.shape"
   ]
  },
  {
   "cell_type": "code",
   "execution_count": 151,
   "metadata": {},
   "outputs": [],
   "source": [
    "# export data\n",
    "df.to_csv('共青团视频弹幕(11.20-3.20)(数据截止 4.1).csv')"
   ]
  },
  {
   "cell_type": "code",
   "execution_count": 150,
   "metadata": {},
   "outputs": [],
   "source": [
    "# df.to_excel('共青团视频弹幕(11.20-3.20)(数据截止 4.1).xlsx')"
   ]
  },
  {
   "cell_type": "code",
   "execution_count": null,
   "metadata": {},
   "outputs": [],
   "source": []
  }
 ],
 "metadata": {
  "kernelspec": {
   "display_name": "Python 3",
   "language": "python",
   "name": "python3"
  },
  "language_info": {
   "codemirror_mode": {
    "name": "ipython",
    "version": 3
   },
   "file_extension": ".py",
   "mimetype": "text/x-python",
   "name": "python",
   "nbconvert_exporter": "python",
   "pygments_lexer": "ipython3",
   "version": "3.7.1"
  }
 },
 "nbformat": 4,
 "nbformat_minor": 2
}
